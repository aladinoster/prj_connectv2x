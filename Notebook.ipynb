{
 "cells": [
  {
   "cell_type": "code",
   "execution_count": 1,
   "metadata": {},
   "outputs": [],
   "source": [
    "# Local execution \n",
    "\n",
    "import sys \n",
    "\n",
    "sys.path.append(\"connectv2x\")"
   ]
  },
  {
   "cell_type": "code",
   "execution_count": 2,
   "metadata": {},
   "outputs": [
    {
     "data": {
      "application/javascript": [
       "\n",
       "            setTimeout(function() {\n",
       "                var nbb_cell_id = 2;\n",
       "                var nbb_unformatted_code = \"%load_ext nb_black\";\n",
       "                var nbb_formatted_code = \"%load_ext nb_black\";\n",
       "                var nbb_cells = Jupyter.notebook.get_cells();\n",
       "                for (var i = 0; i < nbb_cells.length; ++i) {\n",
       "                    if (nbb_cells[i].input_prompt_number == nbb_cell_id) {\n",
       "                        if (nbb_cells[i].get_text() == nbb_unformatted_code) {\n",
       "                             nbb_cells[i].set_text(nbb_formatted_code);\n",
       "                        }\n",
       "                        break;\n",
       "                    }\n",
       "                }\n",
       "            }, 500);\n",
       "            "
      ],
      "text/plain": [
       "<IPython.core.display.Javascript object>"
      ]
     },
     "metadata": {},
     "output_type": "display_data"
    }
   ],
   "source": [
    "%load_ext nb_black"
   ]
  },
  {
   "cell_type": "code",
   "execution_count": 3,
   "metadata": {},
   "outputs": [
    {
     "data": {
      "application/javascript": [
       "\n",
       "            setTimeout(function() {\n",
       "                var nbb_cell_id = 3;\n",
       "                var nbb_unformatted_code = \"%load_ext autoreload\";\n",
       "                var nbb_formatted_code = \"%load_ext autoreload\";\n",
       "                var nbb_cells = Jupyter.notebook.get_cells();\n",
       "                for (var i = 0; i < nbb_cells.length; ++i) {\n",
       "                    if (nbb_cells[i].input_prompt_number == nbb_cell_id) {\n",
       "                        if (nbb_cells[i].get_text() == nbb_unformatted_code) {\n",
       "                             nbb_cells[i].set_text(nbb_formatted_code);\n",
       "                        }\n",
       "                        break;\n",
       "                    }\n",
       "                }\n",
       "            }, 500);\n",
       "            "
      ],
      "text/plain": [
       "<IPython.core.display.Javascript object>"
      ]
     },
     "metadata": {},
     "output_type": "display_data"
    }
   ],
   "source": [
    "%load_ext autoreload"
   ]
  },
  {
   "cell_type": "code",
   "execution_count": 4,
   "metadata": {},
   "outputs": [
    {
     "data": {
      "application/javascript": [
       "\n",
       "            setTimeout(function() {\n",
       "                var nbb_cell_id = 4;\n",
       "                var nbb_unformatted_code = \"%autoreload 2\";\n",
       "                var nbb_formatted_code = \"%autoreload 2\";\n",
       "                var nbb_cells = Jupyter.notebook.get_cells();\n",
       "                for (var i = 0; i < nbb_cells.length; ++i) {\n",
       "                    if (nbb_cells[i].input_prompt_number == nbb_cell_id) {\n",
       "                        if (nbb_cells[i].get_text() == nbb_unformatted_code) {\n",
       "                             nbb_cells[i].set_text(nbb_formatted_code);\n",
       "                        }\n",
       "                        break;\n",
       "                    }\n",
       "                }\n",
       "            }, 500);\n",
       "            "
      ],
      "text/plain": [
       "<IPython.core.display.Javascript object>"
      ]
     },
     "metadata": {},
     "output_type": "display_data"
    }
   ],
   "source": [
    "%autoreload 2"
   ]
  },
  {
   "cell_type": "markdown",
   "metadata": {
    "papermill": {
     "duration": 0.013152,
     "end_time": "2019-11-26T15:01:36.194135",
     "exception": false,
     "start_time": "2019-11-26T15:01:36.180983",
     "status": "completed"
    },
    "tags": []
   },
   "source": [
    "# Project Description\n",
    "\n",
    "## Analyzing Impact of V2I connectivity in terms of traffic\n",
    "\n",
    "In this project the main objective is to understand the impact of vehicle-to-infrastructure (V2I) communication in traffic systems. In particular the focus will be oriented towards the creation of different kind of messages and understanding the effects of those messages in the traffic network.\n",
    "\n",
    "<img src=\"assets/img/01_v2i.jpg\" alt=\"drawing\" width=\"600\"/>\n",
    "\n",
    "\n",
    "In order to do that we are going to make use of the package `connectv2x` that includes some basic models and communication for `V2I` systems. For more information about the source code of this package please go [here](https://github.com/aladinoster/connectv2x). Over there you will find a folder called `connectv2x` containing all the models in the submodules `carfollow`, `vehicles`, `demand`, `messages` etc. Some of these will be explored along the module and may help you to progress faster in the project.   "
   ]
  },
  {
   "cell_type": "markdown",
   "metadata": {
    "papermill": {
     "duration": 0.013152,
     "end_time": "2019-11-26T15:01:36.194135",
     "exception": false,
     "start_time": "2019-11-26T15:01:36.180983",
     "status": "completed"
    },
    "tags": []
   },
   "source": [
    "## Contents and structure \n",
    "\n",
    "* Exploration and modeling of vehicle dynamics\n",
    "* Traffic indicators \n",
    "* Analyzing different scenarios of V2I messaging \n",
    "* Compute emissions from trajectories \n",
    "* Scaling up and analyzing deep characteristics. \n",
    "\n",
    "Let's begin by importing some plotting libraries that will help us with data visualization"
   ]
  },
  {
   "cell_type": "code",
   "execution_count": 5,
   "metadata": {},
   "outputs": [
    {
     "data": {
      "text/html": [
       "\n",
       "    <div class=\"bk-root\">\n",
       "        <a href=\"https://bokeh.org\" target=\"_blank\" class=\"bk-logo bk-logo-small bk-logo-notebook\"></a>\n",
       "        <span id=\"1001\">Loading BokehJS ...</span>\n",
       "    </div>"
      ]
     },
     "metadata": {},
     "output_type": "display_data"
    },
    {
     "data": {
      "application/javascript": [
       "\n",
       "(function(root) {\n",
       "  function now() {\n",
       "    return new Date();\n",
       "  }\n",
       "\n",
       "  var force = true;\n",
       "\n",
       "  if (typeof root._bokeh_onload_callbacks === \"undefined\" || force === true) {\n",
       "    root._bokeh_onload_callbacks = [];\n",
       "    root._bokeh_is_loading = undefined;\n",
       "  }\n",
       "\n",
       "  var JS_MIME_TYPE = 'application/javascript';\n",
       "  var HTML_MIME_TYPE = 'text/html';\n",
       "  var EXEC_MIME_TYPE = 'application/vnd.bokehjs_exec.v0+json';\n",
       "  var CLASS_NAME = 'output_bokeh rendered_html';\n",
       "\n",
       "  /**\n",
       "   * Render data to the DOM node\n",
       "   */\n",
       "  function render(props, node) {\n",
       "    var script = document.createElement(\"script\");\n",
       "    node.appendChild(script);\n",
       "  }\n",
       "\n",
       "  /**\n",
       "   * Handle when an output is cleared or removed\n",
       "   */\n",
       "  function handleClearOutput(event, handle) {\n",
       "    var cell = handle.cell;\n",
       "\n",
       "    var id = cell.output_area._bokeh_element_id;\n",
       "    var server_id = cell.output_area._bokeh_server_id;\n",
       "    // Clean up Bokeh references\n",
       "    if (id != null && id in Bokeh.index) {\n",
       "      Bokeh.index[id].model.document.clear();\n",
       "      delete Bokeh.index[id];\n",
       "    }\n",
       "\n",
       "    if (server_id !== undefined) {\n",
       "      // Clean up Bokeh references\n",
       "      var cmd = \"from bokeh.io.state import curstate; print(curstate().uuid_to_server['\" + server_id + \"'].get_sessions()[0].document.roots[0]._id)\";\n",
       "      cell.notebook.kernel.execute(cmd, {\n",
       "        iopub: {\n",
       "          output: function(msg) {\n",
       "            var id = msg.content.text.trim();\n",
       "            if (id in Bokeh.index) {\n",
       "              Bokeh.index[id].model.document.clear();\n",
       "              delete Bokeh.index[id];\n",
       "            }\n",
       "          }\n",
       "        }\n",
       "      });\n",
       "      // Destroy server and session\n",
       "      var cmd = \"import bokeh.io.notebook as ion; ion.destroy_server('\" + server_id + \"')\";\n",
       "      cell.notebook.kernel.execute(cmd);\n",
       "    }\n",
       "  }\n",
       "\n",
       "  /**\n",
       "   * Handle when a new output is added\n",
       "   */\n",
       "  function handleAddOutput(event, handle) {\n",
       "    var output_area = handle.output_area;\n",
       "    var output = handle.output;\n",
       "\n",
       "    // limit handleAddOutput to display_data with EXEC_MIME_TYPE content only\n",
       "    if ((output.output_type != \"display_data\") || (!output.data.hasOwnProperty(EXEC_MIME_TYPE))) {\n",
       "      return\n",
       "    }\n",
       "\n",
       "    var toinsert = output_area.element.find(\".\" + CLASS_NAME.split(' ')[0]);\n",
       "\n",
       "    if (output.metadata[EXEC_MIME_TYPE][\"id\"] !== undefined) {\n",
       "      toinsert[toinsert.length - 1].firstChild.textContent = output.data[JS_MIME_TYPE];\n",
       "      // store reference to embed id on output_area\n",
       "      output_area._bokeh_element_id = output.metadata[EXEC_MIME_TYPE][\"id\"];\n",
       "    }\n",
       "    if (output.metadata[EXEC_MIME_TYPE][\"server_id\"] !== undefined) {\n",
       "      var bk_div = document.createElement(\"div\");\n",
       "      bk_div.innerHTML = output.data[HTML_MIME_TYPE];\n",
       "      var script_attrs = bk_div.children[0].attributes;\n",
       "      for (var i = 0; i < script_attrs.length; i++) {\n",
       "        toinsert[toinsert.length - 1].firstChild.setAttribute(script_attrs[i].name, script_attrs[i].value);\n",
       "      }\n",
       "      // store reference to server id on output_area\n",
       "      output_area._bokeh_server_id = output.metadata[EXEC_MIME_TYPE][\"server_id\"];\n",
       "    }\n",
       "  }\n",
       "\n",
       "  function register_renderer(events, OutputArea) {\n",
       "\n",
       "    function append_mime(data, metadata, element) {\n",
       "      // create a DOM node to render to\n",
       "      var toinsert = this.create_output_subarea(\n",
       "        metadata,\n",
       "        CLASS_NAME,\n",
       "        EXEC_MIME_TYPE\n",
       "      );\n",
       "      this.keyboard_manager.register_events(toinsert);\n",
       "      // Render to node\n",
       "      var props = {data: data, metadata: metadata[EXEC_MIME_TYPE]};\n",
       "      render(props, toinsert[toinsert.length - 1]);\n",
       "      element.append(toinsert);\n",
       "      return toinsert\n",
       "    }\n",
       "\n",
       "    /* Handle when an output is cleared or removed */\n",
       "    events.on('clear_output.CodeCell', handleClearOutput);\n",
       "    events.on('delete.Cell', handleClearOutput);\n",
       "\n",
       "    /* Handle when a new output is added */\n",
       "    events.on('output_added.OutputArea', handleAddOutput);\n",
       "\n",
       "    /**\n",
       "     * Register the mime type and append_mime function with output_area\n",
       "     */\n",
       "    OutputArea.prototype.register_mime_type(EXEC_MIME_TYPE, append_mime, {\n",
       "      /* Is output safe? */\n",
       "      safe: true,\n",
       "      /* Index of renderer in `output_area.display_order` */\n",
       "      index: 0\n",
       "    });\n",
       "  }\n",
       "\n",
       "  // register the mime type if in Jupyter Notebook environment and previously unregistered\n",
       "  if (root.Jupyter !== undefined) {\n",
       "    var events = require('base/js/events');\n",
       "    var OutputArea = require('notebook/js/outputarea').OutputArea;\n",
       "\n",
       "    if (OutputArea.prototype.mime_types().indexOf(EXEC_MIME_TYPE) == -1) {\n",
       "      register_renderer(events, OutputArea);\n",
       "    }\n",
       "  }\n",
       "\n",
       "  \n",
       "  if (typeof (root._bokeh_timeout) === \"undefined\" || force === true) {\n",
       "    root._bokeh_timeout = Date.now() + 5000;\n",
       "    root._bokeh_failed_load = false;\n",
       "  }\n",
       "\n",
       "  var NB_LOAD_WARNING = {'data': {'text/html':\n",
       "     \"<div style='background-color: #fdd'>\\n\"+\n",
       "     \"<p>\\n\"+\n",
       "     \"BokehJS does not appear to have successfully loaded. If loading BokehJS from CDN, this \\n\"+\n",
       "     \"may be due to a slow or bad network connection. Possible fixes:\\n\"+\n",
       "     \"</p>\\n\"+\n",
       "     \"<ul>\\n\"+\n",
       "     \"<li>re-rerun `output_notebook()` to attempt to load from CDN again, or</li>\\n\"+\n",
       "     \"<li>use INLINE resources instead, as so:</li>\\n\"+\n",
       "     \"</ul>\\n\"+\n",
       "     \"<code>\\n\"+\n",
       "     \"from bokeh.resources import INLINE\\n\"+\n",
       "     \"output_notebook(resources=INLINE)\\n\"+\n",
       "     \"</code>\\n\"+\n",
       "     \"</div>\"}};\n",
       "\n",
       "  function display_loaded() {\n",
       "    var el = document.getElementById(\"1001\");\n",
       "    if (el != null) {\n",
       "      el.textContent = \"BokehJS is loading...\";\n",
       "    }\n",
       "    if (root.Bokeh !== undefined) {\n",
       "      if (el != null) {\n",
       "        el.textContent = \"BokehJS \" + root.Bokeh.version + \" successfully loaded.\";\n",
       "      }\n",
       "    } else if (Date.now() < root._bokeh_timeout) {\n",
       "      setTimeout(display_loaded, 100)\n",
       "    }\n",
       "  }\n",
       "\n",
       "\n",
       "  function run_callbacks() {\n",
       "    try {\n",
       "      root._bokeh_onload_callbacks.forEach(function(callback) {\n",
       "        if (callback != null)\n",
       "          callback();\n",
       "      });\n",
       "    } finally {\n",
       "      delete root._bokeh_onload_callbacks\n",
       "    }\n",
       "    console.debug(\"Bokeh: all callbacks have finished\");\n",
       "  }\n",
       "\n",
       "  function load_libs(css_urls, js_urls, callback) {\n",
       "    if (css_urls == null) css_urls = [];\n",
       "    if (js_urls == null) js_urls = [];\n",
       "\n",
       "    root._bokeh_onload_callbacks.push(callback);\n",
       "    if (root._bokeh_is_loading > 0) {\n",
       "      console.debug(\"Bokeh: BokehJS is being loaded, scheduling callback at\", now());\n",
       "      return null;\n",
       "    }\n",
       "    if (js_urls == null || js_urls.length === 0) {\n",
       "      run_callbacks();\n",
       "      return null;\n",
       "    }\n",
       "    console.debug(\"Bokeh: BokehJS not loaded, scheduling load and callback at\", now());\n",
       "    root._bokeh_is_loading = css_urls.length + js_urls.length;\n",
       "\n",
       "    function on_load() {\n",
       "      root._bokeh_is_loading--;\n",
       "      if (root._bokeh_is_loading === 0) {\n",
       "        console.debug(\"Bokeh: all BokehJS libraries/stylesheets loaded\");\n",
       "        run_callbacks()\n",
       "      }\n",
       "    }\n",
       "\n",
       "    function on_error() {\n",
       "      console.error(\"failed to load \" + url);\n",
       "    }\n",
       "\n",
       "    for (var i = 0; i < css_urls.length; i++) {\n",
       "      var url = css_urls[i];\n",
       "      const element = document.createElement(\"link\");\n",
       "      element.onload = on_load;\n",
       "      element.onerror = on_error;\n",
       "      element.rel = \"stylesheet\";\n",
       "      element.type = \"text/css\";\n",
       "      element.href = url;\n",
       "      console.debug(\"Bokeh: injecting link tag for BokehJS stylesheet: \", url);\n",
       "      document.body.appendChild(element);\n",
       "    }\n",
       "\n",
       "    for (var i = 0; i < js_urls.length; i++) {\n",
       "      var url = js_urls[i];\n",
       "      var element = document.createElement('script');\n",
       "      element.onload = on_load;\n",
       "      element.onerror = on_error;\n",
       "      element.async = false;\n",
       "      element.src = url;\n",
       "      console.debug(\"Bokeh: injecting script tag for BokehJS library: \", url);\n",
       "      document.head.appendChild(element);\n",
       "    }\n",
       "  };var element = document.getElementById(\"1001\");\n",
       "  if (element == null) {\n",
       "    console.error(\"Bokeh: ERROR: autoload.js configured with elementid '1001' but no matching script tag was found. \")\n",
       "    return false;\n",
       "  }\n",
       "\n",
       "  function inject_raw_css(css) {\n",
       "    const element = document.createElement(\"style\");\n",
       "    element.appendChild(document.createTextNode(css));\n",
       "    document.body.appendChild(element);\n",
       "  }\n",
       "\n",
       "  \n",
       "  var js_urls = [\"https://cdn.pydata.org/bokeh/release/bokeh-1.4.0.min.js\", \"https://cdn.pydata.org/bokeh/release/bokeh-widgets-1.4.0.min.js\", \"https://cdn.pydata.org/bokeh/release/bokeh-tables-1.4.0.min.js\", \"https://cdn.pydata.org/bokeh/release/bokeh-gl-1.4.0.min.js\"];\n",
       "  var css_urls = [];\n",
       "  \n",
       "\n",
       "  var inline_js = [\n",
       "    function(Bokeh) {\n",
       "      Bokeh.set_log_level(\"info\");\n",
       "    },\n",
       "    function(Bokeh) {\n",
       "    \n",
       "    \n",
       "    }\n",
       "  ];\n",
       "\n",
       "  function run_inline_js() {\n",
       "    \n",
       "    if (root.Bokeh !== undefined || force === true) {\n",
       "      \n",
       "    for (var i = 0; i < inline_js.length; i++) {\n",
       "      inline_js[i].call(root, root.Bokeh);\n",
       "    }\n",
       "    if (force === true) {\n",
       "        display_loaded();\n",
       "      }} else if (Date.now() < root._bokeh_timeout) {\n",
       "      setTimeout(run_inline_js, 100);\n",
       "    } else if (!root._bokeh_failed_load) {\n",
       "      console.log(\"Bokeh: BokehJS failed to load within specified timeout.\");\n",
       "      root._bokeh_failed_load = true;\n",
       "    } else if (force !== true) {\n",
       "      var cell = $(document.getElementById(\"1001\")).parents('.cell').data().cell;\n",
       "      cell.output_area.append_execute_result(NB_LOAD_WARNING)\n",
       "    }\n",
       "\n",
       "  }\n",
       "\n",
       "  if (root._bokeh_is_loading === 0) {\n",
       "    console.debug(\"Bokeh: BokehJS loaded, going straight to plotting\");\n",
       "    run_inline_js();\n",
       "  } else {\n",
       "    load_libs(css_urls, js_urls, function() {\n",
       "      console.debug(\"Bokeh: BokehJS plotting callback run at\", now());\n",
       "      run_inline_js();\n",
       "    });\n",
       "  }\n",
       "}(window));"
      ],
      "application/vnd.bokehjs_load.v0+json": "\n(function(root) {\n  function now() {\n    return new Date();\n  }\n\n  var force = true;\n\n  if (typeof root._bokeh_onload_callbacks === \"undefined\" || force === true) {\n    root._bokeh_onload_callbacks = [];\n    root._bokeh_is_loading = undefined;\n  }\n\n  \n\n  \n  if (typeof (root._bokeh_timeout) === \"undefined\" || force === true) {\n    root._bokeh_timeout = Date.now() + 5000;\n    root._bokeh_failed_load = false;\n  }\n\n  var NB_LOAD_WARNING = {'data': {'text/html':\n     \"<div style='background-color: #fdd'>\\n\"+\n     \"<p>\\n\"+\n     \"BokehJS does not appear to have successfully loaded. If loading BokehJS from CDN, this \\n\"+\n     \"may be due to a slow or bad network connection. Possible fixes:\\n\"+\n     \"</p>\\n\"+\n     \"<ul>\\n\"+\n     \"<li>re-rerun `output_notebook()` to attempt to load from CDN again, or</li>\\n\"+\n     \"<li>use INLINE resources instead, as so:</li>\\n\"+\n     \"</ul>\\n\"+\n     \"<code>\\n\"+\n     \"from bokeh.resources import INLINE\\n\"+\n     \"output_notebook(resources=INLINE)\\n\"+\n     \"</code>\\n\"+\n     \"</div>\"}};\n\n  function display_loaded() {\n    var el = document.getElementById(\"1001\");\n    if (el != null) {\n      el.textContent = \"BokehJS is loading...\";\n    }\n    if (root.Bokeh !== undefined) {\n      if (el != null) {\n        el.textContent = \"BokehJS \" + root.Bokeh.version + \" successfully loaded.\";\n      }\n    } else if (Date.now() < root._bokeh_timeout) {\n      setTimeout(display_loaded, 100)\n    }\n  }\n\n\n  function run_callbacks() {\n    try {\n      root._bokeh_onload_callbacks.forEach(function(callback) {\n        if (callback != null)\n          callback();\n      });\n    } finally {\n      delete root._bokeh_onload_callbacks\n    }\n    console.debug(\"Bokeh: all callbacks have finished\");\n  }\n\n  function load_libs(css_urls, js_urls, callback) {\n    if (css_urls == null) css_urls = [];\n    if (js_urls == null) js_urls = [];\n\n    root._bokeh_onload_callbacks.push(callback);\n    if (root._bokeh_is_loading > 0) {\n      console.debug(\"Bokeh: BokehJS is being loaded, scheduling callback at\", now());\n      return null;\n    }\n    if (js_urls == null || js_urls.length === 0) {\n      run_callbacks();\n      return null;\n    }\n    console.debug(\"Bokeh: BokehJS not loaded, scheduling load and callback at\", now());\n    root._bokeh_is_loading = css_urls.length + js_urls.length;\n\n    function on_load() {\n      root._bokeh_is_loading--;\n      if (root._bokeh_is_loading === 0) {\n        console.debug(\"Bokeh: all BokehJS libraries/stylesheets loaded\");\n        run_callbacks()\n      }\n    }\n\n    function on_error() {\n      console.error(\"failed to load \" + url);\n    }\n\n    for (var i = 0; i < css_urls.length; i++) {\n      var url = css_urls[i];\n      const element = document.createElement(\"link\");\n      element.onload = on_load;\n      element.onerror = on_error;\n      element.rel = \"stylesheet\";\n      element.type = \"text/css\";\n      element.href = url;\n      console.debug(\"Bokeh: injecting link tag for BokehJS stylesheet: \", url);\n      document.body.appendChild(element);\n    }\n\n    for (var i = 0; i < js_urls.length; i++) {\n      var url = js_urls[i];\n      var element = document.createElement('script');\n      element.onload = on_load;\n      element.onerror = on_error;\n      element.async = false;\n      element.src = url;\n      console.debug(\"Bokeh: injecting script tag for BokehJS library: \", url);\n      document.head.appendChild(element);\n    }\n  };var element = document.getElementById(\"1001\");\n  if (element == null) {\n    console.error(\"Bokeh: ERROR: autoload.js configured with elementid '1001' but no matching script tag was found. \")\n    return false;\n  }\n\n  function inject_raw_css(css) {\n    const element = document.createElement(\"style\");\n    element.appendChild(document.createTextNode(css));\n    document.body.appendChild(element);\n  }\n\n  \n  var js_urls = [\"https://cdn.pydata.org/bokeh/release/bokeh-1.4.0.min.js\", \"https://cdn.pydata.org/bokeh/release/bokeh-widgets-1.4.0.min.js\", \"https://cdn.pydata.org/bokeh/release/bokeh-tables-1.4.0.min.js\", \"https://cdn.pydata.org/bokeh/release/bokeh-gl-1.4.0.min.js\"];\n  var css_urls = [];\n  \n\n  var inline_js = [\n    function(Bokeh) {\n      Bokeh.set_log_level(\"info\");\n    },\n    function(Bokeh) {\n    \n    \n    }\n  ];\n\n  function run_inline_js() {\n    \n    if (root.Bokeh !== undefined || force === true) {\n      \n    for (var i = 0; i < inline_js.length; i++) {\n      inline_js[i].call(root, root.Bokeh);\n    }\n    if (force === true) {\n        display_loaded();\n      }} else if (Date.now() < root._bokeh_timeout) {\n      setTimeout(run_inline_js, 100);\n    } else if (!root._bokeh_failed_load) {\n      console.log(\"Bokeh: BokehJS failed to load within specified timeout.\");\n      root._bokeh_failed_load = true;\n    } else if (force !== true) {\n      var cell = $(document.getElementById(\"1001\")).parents('.cell').data().cell;\n      cell.output_area.append_execute_result(NB_LOAD_WARNING)\n    }\n\n  }\n\n  if (root._bokeh_is_loading === 0) {\n    console.debug(\"Bokeh: BokehJS loaded, going straight to plotting\");\n    run_inline_js();\n  } else {\n    load_libs(css_urls, js_urls, function() {\n      console.debug(\"Bokeh: BokehJS plotting callback run at\", now());\n      run_inline_js();\n    });\n  }\n}(window));"
     },
     "metadata": {},
     "output_type": "display_data"
    },
    {
     "data": {
      "application/javascript": [
       "\n",
       "            setTimeout(function() {\n",
       "                var nbb_cell_id = 5;\n",
       "                var nbb_unformatted_code = \"from bokeh.plotting import show\\nfrom bokeh.io import output_notebook\\noutput_notebook()\";\n",
       "                var nbb_formatted_code = \"from bokeh.plotting import show\\nfrom bokeh.io import output_notebook\\n\\noutput_notebook()\";\n",
       "                var nbb_cells = Jupyter.notebook.get_cells();\n",
       "                for (var i = 0; i < nbb_cells.length; ++i) {\n",
       "                    if (nbb_cells[i].input_prompt_number == nbb_cell_id) {\n",
       "                        if (nbb_cells[i].get_text() == nbb_unformatted_code) {\n",
       "                             nbb_cells[i].set_text(nbb_formatted_code);\n",
       "                        }\n",
       "                        break;\n",
       "                    }\n",
       "                }\n",
       "            }, 500);\n",
       "            "
      ],
      "text/plain": [
       "<IPython.core.display.Javascript object>"
      ]
     },
     "metadata": {},
     "output_type": "display_data"
    }
   ],
   "source": [
    "from bokeh.plotting import show\n",
    "from bokeh.io import output_notebook\n",
    "output_notebook()"
   ]
  },
  {
   "cell_type": "markdown",
   "metadata": {
    "papermill": {
     "duration": 0.013152,
     "end_time": "2019-11-26T15:01:36.194135",
     "exception": false,
     "start_time": "2019-11-26T15:01:36.180983",
     "status": "completed"
    },
    "tags": []
   },
   "source": [
    "## Understanding the basics \n",
    "\n",
    "For this application it is considered the simulation of [microscopic traffic models](https://en.wikipedia.org/wiki/Microscopic_traffic_flow_model) where *longitudinal position* follow a specified behavior defined as a function of  two main components, the *headway space* and the *speed differential*. The *car following* behavior describes the behavior of the vehicle in its longitudinal dynamics while the *lane change* behavior describes the behavior in the lateral position. \n",
    "\n",
    "In order to modify traffic behavior for a condition, the system is modeled via traffic model where V2I messages modify vehicle speed or lateral position   "
   ]
  },
  {
   "cell_type": "markdown",
   "metadata": {},
   "source": [
    "#### Traffic model and the fundamental diagram\n",
    "\n",
    "Before pursuing it is important to understand the value of the fundamental diagram. The fundamental diagram describe the relation ship between ***density*** or concentration of vehicles and the ***flow*** or speed of vehicles. The density is regularly denoted as $\\kappa$ for this scenarios as `K`, in the meanwhile the flow is denoted by `Q`. We are going to consider the fact that the relationship follows a piecewise linear behavior as follows:\n",
    "\n",
    "\n",
    "\\begin{aligned}\n",
    "Q(\\kappa) = \\begin{cases}\n",
    "u\\kappa\\quad 0\\leq\\kappa\\leq \\kappa_c\\\\\n",
    "w\\left(\\kappa_x-\\kappa\\right)\\quad \\kappa_c\\leq\\kappa\\leq \\kappa_x\n",
    "\\end{cases}\n",
    "\\end{aligned}\n",
    "\n",
    "\n",
    "Let's define the number of vehicles and their initial positions, in order to determine the initial position let's find the minimum spacing. For the moment let's consider the following parameters. `W=5`, `K_X=0.2` and `U=20`. Let's trace the fundamental diagram for this case. We will make use of the `FundamentalDiagram` class in the `traffic` submodule"
   ]
  },
  {
   "cell_type": "code",
   "execution_count": 6,
   "metadata": {},
   "outputs": [
    {
     "data": {
      "text/html": [
       "\n",
       "\n",
       "\n",
       "\n",
       "\n",
       "\n",
       "  <div class=\"bk-root\" id=\"ed6bdd03-25ac-4500-ad4e-9194db91a239\" data-root-id=\"1002\"></div>\n"
      ]
     },
     "metadata": {},
     "output_type": "display_data"
    },
    {
     "data": {
      "application/javascript": [
       "(function(root) {\n",
       "  function embed_document(root) {\n",
       "    \n",
       "  var docs_json = {\"1ef9900c-e761-4e88-97ef-aa181f9eeaf7\":{\"roots\":{\"references\":[{\"attributes\":{\"below\":[{\"id\":\"1013\",\"type\":\"LinearAxis\"}],\"center\":[{\"id\":\"1017\",\"type\":\"Grid\"},{\"id\":\"1022\",\"type\":\"Grid\"}],\"left\":[{\"id\":\"1018\",\"type\":\"LinearAxis\"}],\"plot_height\":500,\"plot_width\":500,\"renderers\":[{\"id\":\"1027\",\"type\":\"GlyphRenderer\"}],\"title\":{\"id\":\"1003\",\"type\":\"Title\"},\"toolbar\":{\"id\":\"1023\",\"type\":\"Toolbar\"},\"x_range\":{\"id\":\"1005\",\"type\":\"DataRange1d\"},\"x_scale\":{\"id\":\"1009\",\"type\":\"LinearScale\"},\"y_range\":{\"id\":\"1007\",\"type\":\"DataRange1d\"},\"y_scale\":{\"id\":\"1011\",\"type\":\"LinearScale\"}},\"id\":\"1002\",\"subtype\":\"Figure\",\"type\":\"Plot\"},{\"attributes\":{\"axis_label\":\"Density [veh/km]\",\"formatter\":{\"id\":\"1032\",\"type\":\"BasicTickFormatter\"},\"ticker\":{\"id\":\"1014\",\"type\":\"BasicTicker\"}},\"id\":\"1013\",\"type\":\"LinearAxis\"},{\"attributes\":{\"source\":{\"id\":\"1024\",\"type\":\"ColumnDataSource\"}},\"id\":\"1028\",\"type\":\"CDSView\"},{\"attributes\":{},\"id\":\"1014\",\"type\":\"BasicTicker\"},{\"attributes\":{},\"id\":\"1009\",\"type\":\"LinearScale\"},{\"attributes\":{\"active_drag\":\"auto\",\"active_inspect\":\"auto\",\"active_multi\":null,\"active_scroll\":\"auto\",\"active_tap\":\"auto\"},\"id\":\"1023\",\"type\":\"Toolbar\"},{\"attributes\":{},\"id\":\"1034\",\"type\":\"UnionRenderers\"},{\"attributes\":{\"ticker\":{\"id\":\"1014\",\"type\":\"BasicTicker\"}},\"id\":\"1017\",\"type\":\"Grid\"},{\"attributes\":{\"axis_label\":\"Flow [veh/h]\",\"formatter\":{\"id\":\"1030\",\"type\":\"BasicTickFormatter\"},\"ticker\":{\"id\":\"1019\",\"type\":\"BasicTicker\"}},\"id\":\"1018\",\"type\":\"LinearAxis\"},{\"attributes\":{},\"id\":\"1035\",\"type\":\"Selection\"},{\"attributes\":{\"line_alpha\":0.1,\"line_color\":\"#1f77b4\",\"x\":{\"field\":\"x\"},\"y\":{\"field\":\"y\"}},\"id\":\"1026\",\"type\":\"Line\"},{\"attributes\":{},\"id\":\"1019\",\"type\":\"BasicTicker\"},{\"attributes\":{},\"id\":\"1032\",\"type\":\"BasicTickFormatter\"},{\"attributes\":{\"callback\":null,\"data\":{\"x\":{\"__ndarray__\":\"AAAAAAAAAADiZXWzq4xgP+JldbOrjHA/0xgwjQHTeD/iZXWzq4yAP1q/UqDWr4Q/0xgwjQHTiD9Mcg16LPaMP+JldbOrjJA/nhLkKUGekj9av1Kg1q+UPxdswRZswZY/0xgwjQHTmD+PxZ4Dl+SaP0xyDXos9pw/CB988MEHnz/iZXWzq4ygP0C8rG52laE/nhLkKUGeoj/8aBvlC6ejP1q/UqDWr6Q/uRWKW6G4pT8XbMEWbMGmP3XC+NE2yqc/0xgwjQHTqD8xb2dIzNupP4/FngOX5Ko/7RvWvmHtqz9Mcg16LPasP6rIRDX3/q0/CB988MEHrz+zutlVRgiwP+JldbOrjLA/ERERERERsT9AvKxudpWxP29nSMzbGbI/nhLkKUGesj/NvX+HpiKzP/xoG+ULp7M/KxS3QnErtD9av1Kg1q+0P4pq7v07NLU/uRWKW6G4tT/owCW5Bj22PxdswRZswbY/RhdddNFFtz91wvjRNsq3P6RtlC+cTrg/0xgwjQHTuD8CxMvqZle5PzFvZ0jM27k/YBoDpjFguj+PxZ4Dl+S6P75wOmH8aLs/7RvWvmHtuz8cx3Ecx3G8P0xyDXos9rw/ex2p15F6vT+qyEQ19/69P9lz4JJcg74/CB988MEHvz83yhdOJ4y/P7O62VVGCMA/SpCnBHlKwD/iZXWzq4zAP3o7Q2LezsA/ERERERERwT+p5t6/Q1PBP0C8rG52lcE/2JF6HanXwT9vZ0jM2xnCPwc9FnsOXMI/nhLkKUGewj826LHYc+DCP829f4emIsM/ZZNNNtlkwz/8aBvlC6fDP5Q+6ZM+6cM/KxS3QnErxD/D6YTxo23EP1q/UqDWr8Q/8pQgTwnyxD+Kau79OzTFPyFAvKxudsU/uRWKW6G4xT9Q61cK1PrFP+jAJbkGPcY/f5bzZzl/xj8XbMEWbMHGP65Bj8WeA8c/RhdddNFFxz/d7CojBIjHP3XC+NE2ysc/DJjGgGkMyD+kbZQvnE7IPztDYt7OkMg/0xgwjQHTyD9r7v07NBXJPwLEy+pmV8k/mpmZmZmZyT8=\",\"dtype\":\"float64\",\"shape\":[100]},\"y\":{\"__ndarray__\":\"AAAAAAAAAAAxb2dIzNupPzFvZ0jM27k/ZZNNNtlkwz8xb2dIzNvJP36lQK1fKdA/ZZNNNtlk0z9LgVq/UqDWPzFvZ0jM29k/F1100UUX3T9+pUCtXyngP3Icx3Ecx+E/ZZNNNtlk4z9YCtT6lQLlP0uBWr9SoOY/Pvjggw8+6D8xb2dIzNvpPywFav1Kgeo/Lrrooosu6j8yb2dIzNvpPzUk5u0Miek/N9lkk0026T85juM4juPoPzxDYt7OkOg/Pvjggw8+6D9CrV8pUOvnP0Ri3s6QmOc/RxdddNFF5z9JzNsZEvPmP0yBWr9SoOY/TjbZZJNN5j9Q61cK1PrlP1Og1q8UqOU/VlVVVVVV5T9YCtT6lQLlP1q/UqDWr+Q/XnTRRRdd5D9hKVDrVwrkP2PezpCYt+M/ZpNNNtlk4z9oSMzbGRLjP2r9SoFav+I/bbLJJpts4j9wZ0jM2xniP3Icx3Ecx+E/ddFFF1104T93hsS8nSHhP3o7Q2LezuA/ffDBBx984D9/pUCtXyngPwS1fqVArd8/CR988MEH3z8OiXk7Q2LePxTzdobEvN0/GV100UUX3T8ex3Ecx3HcPyIxb2dIzNs/J5tssskm2z8sBWr9SoHaPzJvZ0jM29k/N9lkk0022T88Q2LezpDYP0KtXylQ69c/SBdddNFF1z9MgVq/UqDWP1DrVwrU+tU/VlVVVVVV1T9av1Kg1q/UP2EpUOtXCtQ/ZZNNNtlk0z9s/UqBWr/SP3BnSMzbGdI/dtFFF1100T96O0Ni3s7QP4ClQK1fKdA/CR988MEHzz8W83aGxLzNPx7HcRzHccw/K5tssskmyz8zb2dIzNvJP0BDYt7OkMg/SBdddNFFxz9Q61cK1PrFP12/UqDWr8Q/ZZNNNtlkwz9yZ0jM2xnCP3o7Q2LezsA/Dh988MEHvz8ex3Ecx3G8PzhvZ0jM27k/SBdddNFFtz9iv1Kg1q+0P3JnSMzbGbI/GB988MEHrz84b2dIzNupP2y/UqDWr6Q/GB988MEHnz9Yv1Kg1q+UP4C/UqDWr4Q/AAAAAAAAAIA=\",\"dtype\":\"float64\",\"shape\":[100]}},\"selected\":{\"id\":\"1035\",\"type\":\"Selection\"},\"selection_policy\":{\"id\":\"1034\",\"type\":\"UnionRenderers\"}},\"id\":\"1024\",\"type\":\"ColumnDataSource\"},{\"attributes\":{\"dimension\":1,\"ticker\":{\"id\":\"1019\",\"type\":\"BasicTicker\"}},\"id\":\"1022\",\"type\":\"Grid\"},{\"attributes\":{},\"id\":\"1030\",\"type\":\"BasicTickFormatter\"},{\"attributes\":{},\"id\":\"1011\",\"type\":\"LinearScale\"},{\"attributes\":{\"text\":\"Fundamental diagram w: 5, u:25, k_x:0.2\"},\"id\":\"1003\",\"type\":\"Title\"},{\"attributes\":{\"callback\":null},\"id\":\"1007\",\"type\":\"DataRange1d\"},{\"attributes\":{\"line_color\":\"#1f77b4\",\"x\":{\"field\":\"x\"},\"y\":{\"field\":\"y\"}},\"id\":\"1025\",\"type\":\"Line\"},{\"attributes\":{\"callback\":null},\"id\":\"1005\",\"type\":\"DataRange1d\"},{\"attributes\":{\"data_source\":{\"id\":\"1024\",\"type\":\"ColumnDataSource\"},\"glyph\":{\"id\":\"1025\",\"type\":\"Line\"},\"hover_glyph\":null,\"muted_glyph\":null,\"nonselection_glyph\":{\"id\":\"1026\",\"type\":\"Line\"},\"selection_glyph\":null,\"view\":{\"id\":\"1028\",\"type\":\"CDSView\"}},\"id\":\"1027\",\"type\":\"GlyphRenderer\"}],\"root_ids\":[\"1002\"]},\"title\":\"Bokeh Application\",\"version\":\"1.4.0\"}};\n",
       "  var render_items = [{\"docid\":\"1ef9900c-e761-4e88-97ef-aa181f9eeaf7\",\"roots\":{\"1002\":\"ed6bdd03-25ac-4500-ad4e-9194db91a239\"}}];\n",
       "  root.Bokeh.embed.embed_items_notebook(docs_json, render_items);\n",
       "\n",
       "  }\n",
       "  if (root.Bokeh !== undefined) {\n",
       "    embed_document(root);\n",
       "  } else {\n",
       "    var attempts = 0;\n",
       "    var timer = setInterval(function(root) {\n",
       "      if (root.Bokeh !== undefined) {\n",
       "        clearInterval(timer);\n",
       "        embed_document(root);\n",
       "      } else {\n",
       "        attempts++;\n",
       "        if (attempts > 100) {\n",
       "          clearInterval(timer);\n",
       "          console.log(\"Bokeh: ERROR: Unable to run BokehJS code because BokehJS library is missing\");\n",
       "        }\n",
       "      }\n",
       "    }, 10, root)\n",
       "  }\n",
       "})(window);"
      ],
      "application/vnd.bokehjs_exec.v0+json": ""
     },
     "metadata": {
      "application/vnd.bokehjs_exec.v0+json": {
       "id": "1002"
      }
     },
     "output_type": "display_data"
    },
    {
     "data": {
      "application/javascript": [
       "\n",
       "            setTimeout(function() {\n",
       "                var nbb_cell_id = 6;\n",
       "                var nbb_unformatted_code = \"from connectv2x.traffic import FundamentalDiagram\\nfrom bokeh.plotting import show\\n\\nf = FundamentalDiagram(w=5,u=25,k_x=0.2)\\np = f.plot_diagram()\\nshow(p)\";\n",
       "                var nbb_formatted_code = \"from connectv2x.traffic import FundamentalDiagram\\nfrom bokeh.plotting import show\\n\\nf = FundamentalDiagram(w=5, u=25, k_x=0.2)\\np = f.plot_diagram()\\nshow(p)\";\n",
       "                var nbb_cells = Jupyter.notebook.get_cells();\n",
       "                for (var i = 0; i < nbb_cells.length; ++i) {\n",
       "                    if (nbb_cells[i].input_prompt_number == nbb_cell_id) {\n",
       "                        if (nbb_cells[i].get_text() == nbb_unformatted_code) {\n",
       "                             nbb_cells[i].set_text(nbb_formatted_code);\n",
       "                        }\n",
       "                        break;\n",
       "                    }\n",
       "                }\n",
       "            }, 500);\n",
       "            "
      ],
      "text/plain": [
       "<IPython.core.display.Javascript object>"
      ]
     },
     "metadata": {},
     "output_type": "display_data"
    }
   ],
   "source": [
    "from connectv2x.traffic import FundamentalDiagram\n",
    "from bokeh.plotting import show\n",
    "\n",
    "f = FundamentalDiagram(w=5,u=25,k_x=0.2)\n",
    "p = f.plot_diagram()\n",
    "show(p)"
   ]
  },
  {
   "cell_type": "markdown",
   "metadata": {},
   "source": [
    "We can easily establish the ***critical density*** which corresponds to the amount of vehicles at which there is maximum flow via"
   ]
  },
  {
   "cell_type": "code",
   "execution_count": 7,
   "metadata": {},
   "outputs": [
    {
     "name": "stdout",
     "output_type": "stream",
     "text": [
      "Capacity: 0.8333333333333334\n",
      "Critical density: 0.03333333333333333\n",
      "Maximum density: 0.2\n",
      "Speed limit: 25\n",
      "Congestion speed: 5\n"
     ]
    },
    {
     "data": {
      "application/javascript": [
       "\n",
       "            setTimeout(function() {\n",
       "                var nbb_cell_id = 7;\n",
       "                var nbb_unformatted_code = \"print(f\\\"Capacity: {f.C}\\\")\\nprint(f\\\"Critical density: {f.k_c}\\\")\\nprint(f\\\"Maximum density: {f.k_x}\\\")\\nprint(f\\\"Speed limit: {f.u}\\\")\\nprint(f\\\"Congestion speed: {f.w}\\\")\";\n",
       "                var nbb_formatted_code = \"print(f\\\"Capacity: {f.C}\\\")\\nprint(f\\\"Critical density: {f.k_c}\\\")\\nprint(f\\\"Maximum density: {f.k_x}\\\")\\nprint(f\\\"Speed limit: {f.u}\\\")\\nprint(f\\\"Congestion speed: {f.w}\\\")\";\n",
       "                var nbb_cells = Jupyter.notebook.get_cells();\n",
       "                for (var i = 0; i < nbb_cells.length; ++i) {\n",
       "                    if (nbb_cells[i].input_prompt_number == nbb_cell_id) {\n",
       "                        if (nbb_cells[i].get_text() == nbb_unformatted_code) {\n",
       "                             nbb_cells[i].set_text(nbb_formatted_code);\n",
       "                        }\n",
       "                        break;\n",
       "                    }\n",
       "                }\n",
       "            }, 500);\n",
       "            "
      ],
      "text/plain": [
       "<IPython.core.display.Javascript object>"
      ]
     },
     "metadata": {},
     "output_type": "display_data"
    }
   ],
   "source": [
    "print(f\"Capacity: {f.C}\")\n",
    "print(f\"Critical density: {f.k_c}\")\n",
    "print(f\"Maximum density: {f.k_x}\")\n",
    "print(f\"Speed limit: {f.u}\")\n",
    "print(f\"Congestion speed: {f.w}\")"
   ]
  },
  {
   "cell_type": "markdown",
   "metadata": {},
   "source": [
    "The critical density represent the minimum tolerable inter-vehicle distance **headway space** before vehicles start to decrease their speed. On the other hand when the value of density is maximum, and the flow is 0, the vehicles respect the minimum headway space that can be computed from the If the maximum cumulation of vehicles is $\\kappa_x$. Then \n",
    "\n",
    "\\begin{aligned}\n",
    "\\kappa_x = \\frac{N}{d} \\approx \\frac{1}{s_0}  \\approx \\frac{1}{l_{\\text{avg}}+s_{\\text{min}}} \n",
    "\\end{aligned}\n",
    "\n",
    "By computing the case in the fundamental diagram"
   ]
  },
  {
   "cell_type": "code",
   "execution_count": 8,
   "metadata": {},
   "outputs": [
    {
     "name": "stdout",
     "output_type": "stream",
     "text": [
      "Minimum headway space: 5.0\n"
     ]
    },
    {
     "data": {
      "application/javascript": [
       "\n",
       "            setTimeout(function() {\n",
       "                var nbb_cell_id = 8;\n",
       "                var nbb_unformatted_code = \"print(f\\\"Minimum headway space: {1/f.k_x}\\\")\";\n",
       "                var nbb_formatted_code = \"print(f\\\"Minimum headway space: {1/f.k_x}\\\")\";\n",
       "                var nbb_cells = Jupyter.notebook.get_cells();\n",
       "                for (var i = 0; i < nbb_cells.length; ++i) {\n",
       "                    if (nbb_cells[i].input_prompt_number == nbb_cell_id) {\n",
       "                        if (nbb_cells[i].get_text() == nbb_unformatted_code) {\n",
       "                             nbb_cells[i].set_text(nbb_formatted_code);\n",
       "                        }\n",
       "                        break;\n",
       "                    }\n",
       "                }\n",
       "            }, 500);\n",
       "            "
      ],
      "text/plain": [
       "<IPython.core.display.Javascript object>"
      ]
     },
     "metadata": {},
     "output_type": "display_data"
    }
   ],
   "source": [
    "print(f\"Minimum headway space: {1/f.k_x}\")"
   ]
  },
  {
   "cell_type": "markdown",
   "metadata": {},
   "source": [
    "**Q1**: Supose a vehicle has an average length of $l_{\\text{avg}}=4$ [m] and the minimum tolerable inter vehicle distance is $s_{\\text{min}}=2.25$[m]. Consider the congestion wave speed $w=6.25$ [m/s] and a free flow speed of $u=25$ [m/s]. Compute and plot the fundamental diagram for this case and find the value of the capacity and minimum headway space:\n",
    "\n",
    "<span style= \"color:blue\">Provide your answers below:</span>"
   ]
  },
  {
   "cell_type": "code",
   "execution_count": null,
   "metadata": {},
   "outputs": [],
   "source": []
  },
  {
   "cell_type": "markdown",
   "metadata": {
    "papermill": {
     "duration": 0.013152,
     "end_time": "2019-11-26T15:01:36.194135",
     "exception": false,
     "start_time": "2019-11-26T15:01:36.180983",
     "status": "completed"
    },
    "tags": []
   },
   "source": [
    "#### Car following behavior and traffic model \n",
    "\n",
    "Keep in mind the constants `K_X`, `W`, `U` you have computed, they will be useful for building up the behavior of cars in traffic. \n",
    "\n",
    "For the sake of clarity, the following corresponds to the notations for variable description in the model. It is considered the vehicle position of a vehicle as $x_n$ and the headway space between a vehicle and its leader as $s_n = x_{n-1}-x_{n}$. The vehicle's speed and acceleration are defined as $v_n$,$a_n$ respectively. The operator $\\Delta v_n = v_{n-1} - v_{n}$ refers to the difference between the leading vehicle and the following one. \n",
    "\n",
    "For a determined vehicle in the network the longitudinal dynamics are determined by the acceleration behavior. In this case it is considred Tampere's Law. \n",
    "\n",
    "$$ \n",
    "a_n(t+T_n) = \\min \\left(c_{1,n-1}\\Delta v_{n-1,n} + \n",
    "c_{2}\\left(\\Delta x_{n,n-1} - \\left(s_0+\\tau v_n(t)\\right)\\right),\n",
    "c_{3}\\left(v^\\star(t) - v_n(t)\\right)\\right)\n",
    "$$\n",
    "\n",
    "One of the main features of this model is the adaptability to a specific speed condition, while preserving properties of the traffic such as the car following behavior in congestion situation. This feature makes it possible to trace features in the fundamental diagram. \n",
    "\n",
    "*To implement the model a `class` object called `Tampere` has been implemented. The class intends to describe the full behavior of the vehicle.* \n",
    "\n",
    "#### Parameters \n",
    "\n",
    "So far parameters in the model have been fixed although random scenarios can be also considered.\n",
    "\n",
    "| Parameter     | Value     | Units |\n",
    ":--------------:|:---------:|:------:\n",
    "$$c_1,c_2,c_3$$ | 0.5       |\n",
    "$$\\tau$$        | $$\\frac{1}{wk_x}$$ | [s]\n",
    "$$w$$           | $$6.25$$  | [m/s]\n",
    "$$k_x$$         | $$0.16$$  | [veh/km]\n",
    "$$u_i$$         | $$25$$    | [m/s]"
   ]
  },
  {
   "cell_type": "markdown",
   "metadata": {},
   "source": [
    "Please follow step by step variable definitions for more detail into simulations. Let define the parameters declared in the table as `C_1,C_2,C_3,W,K_X,W` and import the class `Tampere` from the submodule `connectv2x.carfollow`. "
   ]
  },
  {
   "cell_type": "code",
   "execution_count": 9,
   "metadata": {},
   "outputs": [
    {
     "data": {
      "application/javascript": [
       "\n",
       "            setTimeout(function() {\n",
       "                var nbb_cell_id = 9;\n",
       "                var nbb_unformatted_code = \"from connectv2x.carfollow import Tampere\\n\\nC_1, C_2, C_3 = (0.5,0.5,0.5)\";\n",
       "                var nbb_formatted_code = \"from connectv2x.carfollow import Tampere\\n\\nC_1, C_2, C_3 = (0.5, 0.5, 0.5)\";\n",
       "                var nbb_cells = Jupyter.notebook.get_cells();\n",
       "                for (var i = 0; i < nbb_cells.length; ++i) {\n",
       "                    if (nbb_cells[i].input_prompt_number == nbb_cell_id) {\n",
       "                        if (nbb_cells[i].get_text() == nbb_unformatted_code) {\n",
       "                             nbb_cells[i].set_text(nbb_formatted_code);\n",
       "                        }\n",
       "                        break;\n",
       "                    }\n",
       "                }\n",
       "            }, 500);\n",
       "            "
      ],
      "text/plain": [
       "<IPython.core.display.Javascript object>"
      ]
     },
     "metadata": {},
     "output_type": "display_data"
    }
   ],
   "source": [
    "from connectv2x.carfollow import Tampere\n",
    "\n",
    "C_1, C_2, C_3 = (0.5,0.5,0.5)"
   ]
  },
  {
   "cell_type": "markdown",
   "metadata": {},
   "source": [
    "In the following we are going to compute the initial speeds `V_0`, positions `X_0` for simulating the vehicle's dynamic. Let's consider for the moment a set of two vehicles "
   ]
  },
  {
   "cell_type": "code",
   "execution_count": 11,
   "metadata": {},
   "outputs": [
    {
     "name": "stdout",
     "output_type": "stream",
     "text": [
      "List of vehicles: [Tampere(x0=5.0,v0=25.0), Tampere(x0=0.0,v0=25.0)]\n"
     ]
    },
    {
     "data": {
      "application/javascript": [
       "\n",
       "            setTimeout(function() {\n",
       "                var nbb_cell_id = 11;\n",
       "                var nbb_unformatted_code = \"import numpy as np \\n\\nN_VEH = 2 # Number of vehicles \\nX0 = np.array([f.s_x,0])\\nV0 = np.ones(N_VEH) * f.u\\nV_CLASS = [\\\"HDV\\\", \\\"HDV\\\"]\\n\\nveh_list = []\\nTampere.reset()\\nfor x0, v0, vtype in zip(X0, V0, V_CLASS):\\n    veh_list.append(Tampere(x0=x0, v0=v0, veh_type=vtype))\\nprint(f\\\"List of vehicles: {veh_list}\\\")\";\n",
       "                var nbb_formatted_code = \"import numpy as np\\n\\nN_VEH = 2  # Number of vehicles\\nX0 = np.array([f.s_x, 0])\\nV0 = np.ones(N_VEH) * f.u\\nV_CLASS = [\\\"HDV\\\", \\\"HDV\\\"]\\n\\nveh_list = []\\nTampere.reset()\\nfor x0, v0, vtype in zip(X0, V0, V_CLASS):\\n    veh_list.append(Tampere(x0=x0, v0=v0, veh_type=vtype))\\nprint(f\\\"List of vehicles: {veh_list}\\\")\";\n",
       "                var nbb_cells = Jupyter.notebook.get_cells();\n",
       "                for (var i = 0; i < nbb_cells.length; ++i) {\n",
       "                    if (nbb_cells[i].input_prompt_number == nbb_cell_id) {\n",
       "                        if (nbb_cells[i].get_text() == nbb_unformatted_code) {\n",
       "                             nbb_cells[i].set_text(nbb_formatted_code);\n",
       "                        }\n",
       "                        break;\n",
       "                    }\n",
       "                }\n",
       "            }, 500);\n",
       "            "
      ],
      "text/plain": [
       "<IPython.core.display.Javascript object>"
      ]
     },
     "metadata": {},
     "output_type": "display_data"
    }
   ],
   "source": [
    "import numpy as np \n",
    "\n",
    "N_VEH = 2 # Number of vehicles \n",
    "X0 = np.array([f.s_x,0])\n",
    "V0 = np.ones(N_VEH) * f.u\n",
    "V_CLASS = [\"HDV\", \"HDV\"]\n",
    "\n",
    "veh_list = []\n",
    "Tampere.reset()\n",
    "for x0, v0, vtype in zip(X0, V0, V_CLASS):\n",
    "    veh_list.append(Tampere(x0=x0, v0=v0, veh_type=vtype))\n",
    "print(f\"List of vehicles: {veh_list}\")"
   ]
  },
  {
   "cell_type": "markdown",
   "metadata": {},
   "source": [
    "Based on the definition of the fundamental diagram let's compute the parameters required to evolve the acceleration equation. In general in order to evolve the acceleration equation it is required to solve the following dynamical system: \n",
    "\n",
    "\n",
    "\\begin{aligned}\n",
    "x_n(t+T) &= x_n(t) + v_n(t)T\\\\\n",
    "v_n(t+T) &= v_n(t) + a_n(t) T\\\\\n",
    "\\end{aligned}\n",
    "\n",
    "In order to evolve this set of equations in time it is required to account for the initial positions for all vehicles and in particular for a particular definition of $a_0(t)$ the first vehicle in the formation. "
   ]
  },
  {
   "cell_type": "code",
   "execution_count": 13,
   "metadata": {},
   "outputs": [
    {
     "data": {
      "application/javascript": [
       "\n",
       "            setTimeout(function() {\n",
       "                var nbb_cell_id = 13;\n",
       "                var nbb_unformatted_code = \"# Minimum spacing \\n\\nfrom connectv2x.support import speed_pulse\\n\\ndef lead_spd(x):\\n    \\\"\\\"\\\"  Leader's function to control speed drop in space \\n         Speed Drop: 20 m/s \\n         Position: 5 Km\\n         Duration: 20 Km\\n    \\\"\\\"\\\"\\n    return speed_pulse(x, drop=20, delay=5000, duration=20000)\";\n",
       "                var nbb_formatted_code = \"# Minimum spacing\\n\\nfrom connectv2x.support import speed_pulse\\n\\n\\ndef lead_spd(x):\\n    \\\"\\\"\\\"  Leader's function to control speed drop in space \\n         Speed Drop: 20 m/s \\n         Position: 5 Km\\n         Duration: 20 Km\\n    \\\"\\\"\\\"\\n    return speed_pulse(x, drop=20, delay=5000, duration=20000)\";\n",
       "                var nbb_cells = Jupyter.notebook.get_cells();\n",
       "                for (var i = 0; i < nbb_cells.length; ++i) {\n",
       "                    if (nbb_cells[i].input_prompt_number == nbb_cell_id) {\n",
       "                        if (nbb_cells[i].get_text() == nbb_unformatted_code) {\n",
       "                             nbb_cells[i].set_text(nbb_formatted_code);\n",
       "                        }\n",
       "                        break;\n",
       "                    }\n",
       "                }\n",
       "            }, 500);\n",
       "            "
      ],
      "text/plain": [
       "<IPython.core.display.Javascript object>"
      ]
     },
     "metadata": {},
     "output_type": "display_data"
    }
   ],
   "source": [
    "# Minimum spacing \n",
    "\n",
    "from connectv2x.support import speed_pulse\n",
    "\n",
    "def lead_spd(x):\n",
    "    \"\"\"  Leader's function to control speed drop in space \n",
    "         Speed Drop: 20 m/s \n",
    "         Position: 5 Km\n",
    "         Duration: 20 Km\n",
    "    \"\"\"\n",
    "    return speed_pulse(x, drop=20, delay=5000, duration=20000)"
   ]
  },
  {
   "cell_type": "code",
   "execution_count": 8,
   "metadata": {},
   "outputs": [
    {
     "data": {
      "application/javascript": [
       "\n",
       "            setTimeout(function() {\n",
       "                var nbb_cell_id = 8;\n",
       "                var nbb_unformatted_code = \"import numpy as np\";\n",
       "                var nbb_formatted_code = \"import numpy as np\";\n",
       "                var nbb_cells = Jupyter.notebook.get_cells();\n",
       "                for (var i = 0; i < nbb_cells.length; ++i) {\n",
       "                    if (nbb_cells[i].input_prompt_number == nbb_cell_id) {\n",
       "                        if (nbb_cells[i].get_text() == nbb_unformatted_code) {\n",
       "                             nbb_cells[i].set_text(nbb_formatted_code);\n",
       "                        }\n",
       "                        break;\n",
       "                    }\n",
       "                }\n",
       "            }, 500);\n",
       "            "
      ],
      "text/plain": [
       "<IPython.core.display.Javascript object>"
      ]
     },
     "metadata": {},
     "output_type": "display_data"
    }
   ],
   "source": [
    "import numpy as np"
   ]
  },
  {
   "cell_type": "markdown",
   "metadata": {},
   "source": [
    "**Q1**: Create a function that considers as an inputs:\n",
    "\n",
    "* `x_leader`\n",
    "* `v_leader`\n",
    "* `x_ego`\n",
    "* `v_ego` "
   ]
  },
  {
   "cell_type": "code",
   "execution_count": null,
   "metadata": {},
   "outputs": [],
   "source": [
    "def acceleration(x_leader,v_leader, ):\n",
    "    # C1 * \n",
    "    return a"
   ]
  },
  {
   "cell_type": "code",
   "execution_count": null,
   "metadata": {},
   "outputs": [],
   "source": []
  },
  {
   "cell_type": "code",
   "execution_count": 2,
   "metadata": {
    "papermill": {
     "duration": 0.777142,
     "end_time": "2019-11-26T15:01:36.984346",
     "exception": false,
     "start_time": "2019-11-26T15:01:36.207204",
     "status": "completed"
    },
    "tags": []
   },
   "outputs": [
    {
     "data": {
      "text/html": [
       "\n",
       "    <div class=\"bk-root\">\n",
       "        <a href=\"https://bokeh.org\" target=\"_blank\" class=\"bk-logo bk-logo-small bk-logo-notebook\"></a>\n",
       "        <span id=\"1001\">Loading BokehJS ...</span>\n",
       "    </div>"
      ]
     },
     "metadata": {},
     "output_type": "display_data"
    },
    {
     "data": {
      "application/javascript": [
       "\n",
       "(function(root) {\n",
       "  function now() {\n",
       "    return new Date();\n",
       "  }\n",
       "\n",
       "  var force = true;\n",
       "\n",
       "  if (typeof root._bokeh_onload_callbacks === \"undefined\" || force === true) {\n",
       "    root._bokeh_onload_callbacks = [];\n",
       "    root._bokeh_is_loading = undefined;\n",
       "  }\n",
       "\n",
       "  var JS_MIME_TYPE = 'application/javascript';\n",
       "  var HTML_MIME_TYPE = 'text/html';\n",
       "  var EXEC_MIME_TYPE = 'application/vnd.bokehjs_exec.v0+json';\n",
       "  var CLASS_NAME = 'output_bokeh rendered_html';\n",
       "\n",
       "  /**\n",
       "   * Render data to the DOM node\n",
       "   */\n",
       "  function render(props, node) {\n",
       "    var script = document.createElement(\"script\");\n",
       "    node.appendChild(script);\n",
       "  }\n",
       "\n",
       "  /**\n",
       "   * Handle when an output is cleared or removed\n",
       "   */\n",
       "  function handleClearOutput(event, handle) {\n",
       "    var cell = handle.cell;\n",
       "\n",
       "    var id = cell.output_area._bokeh_element_id;\n",
       "    var server_id = cell.output_area._bokeh_server_id;\n",
       "    // Clean up Bokeh references\n",
       "    if (id != null && id in Bokeh.index) {\n",
       "      Bokeh.index[id].model.document.clear();\n",
       "      delete Bokeh.index[id];\n",
       "    }\n",
       "\n",
       "    if (server_id !== undefined) {\n",
       "      // Clean up Bokeh references\n",
       "      var cmd = \"from bokeh.io.state import curstate; print(curstate().uuid_to_server['\" + server_id + \"'].get_sessions()[0].document.roots[0]._id)\";\n",
       "      cell.notebook.kernel.execute(cmd, {\n",
       "        iopub: {\n",
       "          output: function(msg) {\n",
       "            var id = msg.content.text.trim();\n",
       "            if (id in Bokeh.index) {\n",
       "              Bokeh.index[id].model.document.clear();\n",
       "              delete Bokeh.index[id];\n",
       "            }\n",
       "          }\n",
       "        }\n",
       "      });\n",
       "      // Destroy server and session\n",
       "      var cmd = \"import bokeh.io.notebook as ion; ion.destroy_server('\" + server_id + \"')\";\n",
       "      cell.notebook.kernel.execute(cmd);\n",
       "    }\n",
       "  }\n",
       "\n",
       "  /**\n",
       "   * Handle when a new output is added\n",
       "   */\n",
       "  function handleAddOutput(event, handle) {\n",
       "    var output_area = handle.output_area;\n",
       "    var output = handle.output;\n",
       "\n",
       "    // limit handleAddOutput to display_data with EXEC_MIME_TYPE content only\n",
       "    if ((output.output_type != \"display_data\") || (!output.data.hasOwnProperty(EXEC_MIME_TYPE))) {\n",
       "      return\n",
       "    }\n",
       "\n",
       "    var toinsert = output_area.element.find(\".\" + CLASS_NAME.split(' ')[0]);\n",
       "\n",
       "    if (output.metadata[EXEC_MIME_TYPE][\"id\"] !== undefined) {\n",
       "      toinsert[toinsert.length - 1].firstChild.textContent = output.data[JS_MIME_TYPE];\n",
       "      // store reference to embed id on output_area\n",
       "      output_area._bokeh_element_id = output.metadata[EXEC_MIME_TYPE][\"id\"];\n",
       "    }\n",
       "    if (output.metadata[EXEC_MIME_TYPE][\"server_id\"] !== undefined) {\n",
       "      var bk_div = document.createElement(\"div\");\n",
       "      bk_div.innerHTML = output.data[HTML_MIME_TYPE];\n",
       "      var script_attrs = bk_div.children[0].attributes;\n",
       "      for (var i = 0; i < script_attrs.length; i++) {\n",
       "        toinsert[toinsert.length - 1].firstChild.setAttribute(script_attrs[i].name, script_attrs[i].value);\n",
       "      }\n",
       "      // store reference to server id on output_area\n",
       "      output_area._bokeh_server_id = output.metadata[EXEC_MIME_TYPE][\"server_id\"];\n",
       "    }\n",
       "  }\n",
       "\n",
       "  function register_renderer(events, OutputArea) {\n",
       "\n",
       "    function append_mime(data, metadata, element) {\n",
       "      // create a DOM node to render to\n",
       "      var toinsert = this.create_output_subarea(\n",
       "        metadata,\n",
       "        CLASS_NAME,\n",
       "        EXEC_MIME_TYPE\n",
       "      );\n",
       "      this.keyboard_manager.register_events(toinsert);\n",
       "      // Render to node\n",
       "      var props = {data: data, metadata: metadata[EXEC_MIME_TYPE]};\n",
       "      render(props, toinsert[toinsert.length - 1]);\n",
       "      element.append(toinsert);\n",
       "      return toinsert\n",
       "    }\n",
       "\n",
       "    /* Handle when an output is cleared or removed */\n",
       "    events.on('clear_output.CodeCell', handleClearOutput);\n",
       "    events.on('delete.Cell', handleClearOutput);\n",
       "\n",
       "    /* Handle when a new output is added */\n",
       "    events.on('output_added.OutputArea', handleAddOutput);\n",
       "\n",
       "    /**\n",
       "     * Register the mime type and append_mime function with output_area\n",
       "     */\n",
       "    OutputArea.prototype.register_mime_type(EXEC_MIME_TYPE, append_mime, {\n",
       "      /* Is output safe? */\n",
       "      safe: true,\n",
       "      /* Index of renderer in `output_area.display_order` */\n",
       "      index: 0\n",
       "    });\n",
       "  }\n",
       "\n",
       "  // register the mime type if in Jupyter Notebook environment and previously unregistered\n",
       "  if (root.Jupyter !== undefined) {\n",
       "    var events = require('base/js/events');\n",
       "    var OutputArea = require('notebook/js/outputarea').OutputArea;\n",
       "\n",
       "    if (OutputArea.prototype.mime_types().indexOf(EXEC_MIME_TYPE) == -1) {\n",
       "      register_renderer(events, OutputArea);\n",
       "    }\n",
       "  }\n",
       "\n",
       "  \n",
       "  if (typeof (root._bokeh_timeout) === \"undefined\" || force === true) {\n",
       "    root._bokeh_timeout = Date.now() + 5000;\n",
       "    root._bokeh_failed_load = false;\n",
       "  }\n",
       "\n",
       "  var NB_LOAD_WARNING = {'data': {'text/html':\n",
       "     \"<div style='background-color: #fdd'>\\n\"+\n",
       "     \"<p>\\n\"+\n",
       "     \"BokehJS does not appear to have successfully loaded. If loading BokehJS from CDN, this \\n\"+\n",
       "     \"may be due to a slow or bad network connection. Possible fixes:\\n\"+\n",
       "     \"</p>\\n\"+\n",
       "     \"<ul>\\n\"+\n",
       "     \"<li>re-rerun `output_notebook()` to attempt to load from CDN again, or</li>\\n\"+\n",
       "     \"<li>use INLINE resources instead, as so:</li>\\n\"+\n",
       "     \"</ul>\\n\"+\n",
       "     \"<code>\\n\"+\n",
       "     \"from bokeh.resources import INLINE\\n\"+\n",
       "     \"output_notebook(resources=INLINE)\\n\"+\n",
       "     \"</code>\\n\"+\n",
       "     \"</div>\"}};\n",
       "\n",
       "  function display_loaded() {\n",
       "    var el = document.getElementById(\"1001\");\n",
       "    if (el != null) {\n",
       "      el.textContent = \"BokehJS is loading...\";\n",
       "    }\n",
       "    if (root.Bokeh !== undefined) {\n",
       "      if (el != null) {\n",
       "        el.textContent = \"BokehJS \" + root.Bokeh.version + \" successfully loaded.\";\n",
       "      }\n",
       "    } else if (Date.now() < root._bokeh_timeout) {\n",
       "      setTimeout(display_loaded, 100)\n",
       "    }\n",
       "  }\n",
       "\n",
       "\n",
       "  function run_callbacks() {\n",
       "    try {\n",
       "      root._bokeh_onload_callbacks.forEach(function(callback) {\n",
       "        if (callback != null)\n",
       "          callback();\n",
       "      });\n",
       "    } finally {\n",
       "      delete root._bokeh_onload_callbacks\n",
       "    }\n",
       "    console.debug(\"Bokeh: all callbacks have finished\");\n",
       "  }\n",
       "\n",
       "  function load_libs(css_urls, js_urls, callback) {\n",
       "    if (css_urls == null) css_urls = [];\n",
       "    if (js_urls == null) js_urls = [];\n",
       "\n",
       "    root._bokeh_onload_callbacks.push(callback);\n",
       "    if (root._bokeh_is_loading > 0) {\n",
       "      console.debug(\"Bokeh: BokehJS is being loaded, scheduling callback at\", now());\n",
       "      return null;\n",
       "    }\n",
       "    if (js_urls == null || js_urls.length === 0) {\n",
       "      run_callbacks();\n",
       "      return null;\n",
       "    }\n",
       "    console.debug(\"Bokeh: BokehJS not loaded, scheduling load and callback at\", now());\n",
       "    root._bokeh_is_loading = css_urls.length + js_urls.length;\n",
       "\n",
       "    function on_load() {\n",
       "      root._bokeh_is_loading--;\n",
       "      if (root._bokeh_is_loading === 0) {\n",
       "        console.debug(\"Bokeh: all BokehJS libraries/stylesheets loaded\");\n",
       "        run_callbacks()\n",
       "      }\n",
       "    }\n",
       "\n",
       "    function on_error() {\n",
       "      console.error(\"failed to load \" + url);\n",
       "    }\n",
       "\n",
       "    for (var i = 0; i < css_urls.length; i++) {\n",
       "      var url = css_urls[i];\n",
       "      const element = document.createElement(\"link\");\n",
       "      element.onload = on_load;\n",
       "      element.onerror = on_error;\n",
       "      element.rel = \"stylesheet\";\n",
       "      element.type = \"text/css\";\n",
       "      element.href = url;\n",
       "      console.debug(\"Bokeh: injecting link tag for BokehJS stylesheet: \", url);\n",
       "      document.body.appendChild(element);\n",
       "    }\n",
       "\n",
       "    for (var i = 0; i < js_urls.length; i++) {\n",
       "      var url = js_urls[i];\n",
       "      var element = document.createElement('script');\n",
       "      element.onload = on_load;\n",
       "      element.onerror = on_error;\n",
       "      element.async = false;\n",
       "      element.src = url;\n",
       "      console.debug(\"Bokeh: injecting script tag for BokehJS library: \", url);\n",
       "      document.head.appendChild(element);\n",
       "    }\n",
       "  };var element = document.getElementById(\"1001\");\n",
       "  if (element == null) {\n",
       "    console.error(\"Bokeh: ERROR: autoload.js configured with elementid '1001' but no matching script tag was found. \")\n",
       "    return false;\n",
       "  }\n",
       "\n",
       "  function inject_raw_css(css) {\n",
       "    const element = document.createElement(\"style\");\n",
       "    element.appendChild(document.createTextNode(css));\n",
       "    document.body.appendChild(element);\n",
       "  }\n",
       "\n",
       "  \n",
       "  var js_urls = [\"https://cdn.pydata.org/bokeh/release/bokeh-1.4.0.min.js\", \"https://cdn.pydata.org/bokeh/release/bokeh-widgets-1.4.0.min.js\", \"https://cdn.pydata.org/bokeh/release/bokeh-tables-1.4.0.min.js\", \"https://cdn.pydata.org/bokeh/release/bokeh-gl-1.4.0.min.js\"];\n",
       "  var css_urls = [];\n",
       "  \n",
       "\n",
       "  var inline_js = [\n",
       "    function(Bokeh) {\n",
       "      Bokeh.set_log_level(\"info\");\n",
       "    },\n",
       "    function(Bokeh) {\n",
       "    \n",
       "    \n",
       "    }\n",
       "  ];\n",
       "\n",
       "  function run_inline_js() {\n",
       "    \n",
       "    if (root.Bokeh !== undefined || force === true) {\n",
       "      \n",
       "    for (var i = 0; i < inline_js.length; i++) {\n",
       "      inline_js[i].call(root, root.Bokeh);\n",
       "    }\n",
       "    if (force === true) {\n",
       "        display_loaded();\n",
       "      }} else if (Date.now() < root._bokeh_timeout) {\n",
       "      setTimeout(run_inline_js, 100);\n",
       "    } else if (!root._bokeh_failed_load) {\n",
       "      console.log(\"Bokeh: BokehJS failed to load within specified timeout.\");\n",
       "      root._bokeh_failed_load = true;\n",
       "    } else if (force !== true) {\n",
       "      var cell = $(document.getElementById(\"1001\")).parents('.cell').data().cell;\n",
       "      cell.output_area.append_execute_result(NB_LOAD_WARNING)\n",
       "    }\n",
       "\n",
       "  }\n",
       "\n",
       "  if (root._bokeh_is_loading === 0) {\n",
       "    console.debug(\"Bokeh: BokehJS loaded, going straight to plotting\");\n",
       "    run_inline_js();\n",
       "  } else {\n",
       "    load_libs(css_urls, js_urls, function() {\n",
       "      console.debug(\"Bokeh: BokehJS plotting callback run at\", now());\n",
       "      run_inline_js();\n",
       "    });\n",
       "  }\n",
       "}(window));"
      ],
      "application/vnd.bokehjs_load.v0+json": "\n(function(root) {\n  function now() {\n    return new Date();\n  }\n\n  var force = true;\n\n  if (typeof root._bokeh_onload_callbacks === \"undefined\" || force === true) {\n    root._bokeh_onload_callbacks = [];\n    root._bokeh_is_loading = undefined;\n  }\n\n  \n\n  \n  if (typeof (root._bokeh_timeout) === \"undefined\" || force === true) {\n    root._bokeh_timeout = Date.now() + 5000;\n    root._bokeh_failed_load = false;\n  }\n\n  var NB_LOAD_WARNING = {'data': {'text/html':\n     \"<div style='background-color: #fdd'>\\n\"+\n     \"<p>\\n\"+\n     \"BokehJS does not appear to have successfully loaded. If loading BokehJS from CDN, this \\n\"+\n     \"may be due to a slow or bad network connection. Possible fixes:\\n\"+\n     \"</p>\\n\"+\n     \"<ul>\\n\"+\n     \"<li>re-rerun `output_notebook()` to attempt to load from CDN again, or</li>\\n\"+\n     \"<li>use INLINE resources instead, as so:</li>\\n\"+\n     \"</ul>\\n\"+\n     \"<code>\\n\"+\n     \"from bokeh.resources import INLINE\\n\"+\n     \"output_notebook(resources=INLINE)\\n\"+\n     \"</code>\\n\"+\n     \"</div>\"}};\n\n  function display_loaded() {\n    var el = document.getElementById(\"1001\");\n    if (el != null) {\n      el.textContent = \"BokehJS is loading...\";\n    }\n    if (root.Bokeh !== undefined) {\n      if (el != null) {\n        el.textContent = \"BokehJS \" + root.Bokeh.version + \" successfully loaded.\";\n      }\n    } else if (Date.now() < root._bokeh_timeout) {\n      setTimeout(display_loaded, 100)\n    }\n  }\n\n\n  function run_callbacks() {\n    try {\n      root._bokeh_onload_callbacks.forEach(function(callback) {\n        if (callback != null)\n          callback();\n      });\n    } finally {\n      delete root._bokeh_onload_callbacks\n    }\n    console.debug(\"Bokeh: all callbacks have finished\");\n  }\n\n  function load_libs(css_urls, js_urls, callback) {\n    if (css_urls == null) css_urls = [];\n    if (js_urls == null) js_urls = [];\n\n    root._bokeh_onload_callbacks.push(callback);\n    if (root._bokeh_is_loading > 0) {\n      console.debug(\"Bokeh: BokehJS is being loaded, scheduling callback at\", now());\n      return null;\n    }\n    if (js_urls == null || js_urls.length === 0) {\n      run_callbacks();\n      return null;\n    }\n    console.debug(\"Bokeh: BokehJS not loaded, scheduling load and callback at\", now());\n    root._bokeh_is_loading = css_urls.length + js_urls.length;\n\n    function on_load() {\n      root._bokeh_is_loading--;\n      if (root._bokeh_is_loading === 0) {\n        console.debug(\"Bokeh: all BokehJS libraries/stylesheets loaded\");\n        run_callbacks()\n      }\n    }\n\n    function on_error() {\n      console.error(\"failed to load \" + url);\n    }\n\n    for (var i = 0; i < css_urls.length; i++) {\n      var url = css_urls[i];\n      const element = document.createElement(\"link\");\n      element.onload = on_load;\n      element.onerror = on_error;\n      element.rel = \"stylesheet\";\n      element.type = \"text/css\";\n      element.href = url;\n      console.debug(\"Bokeh: injecting link tag for BokehJS stylesheet: \", url);\n      document.body.appendChild(element);\n    }\n\n    for (var i = 0; i < js_urls.length; i++) {\n      var url = js_urls[i];\n      var element = document.createElement('script');\n      element.onload = on_load;\n      element.onerror = on_error;\n      element.async = false;\n      element.src = url;\n      console.debug(\"Bokeh: injecting script tag for BokehJS library: \", url);\n      document.head.appendChild(element);\n    }\n  };var element = document.getElementById(\"1001\");\n  if (element == null) {\n    console.error(\"Bokeh: ERROR: autoload.js configured with elementid '1001' but no matching script tag was found. \")\n    return false;\n  }\n\n  function inject_raw_css(css) {\n    const element = document.createElement(\"style\");\n    element.appendChild(document.createTextNode(css));\n    document.body.appendChild(element);\n  }\n\n  \n  var js_urls = [\"https://cdn.pydata.org/bokeh/release/bokeh-1.4.0.min.js\", \"https://cdn.pydata.org/bokeh/release/bokeh-widgets-1.4.0.min.js\", \"https://cdn.pydata.org/bokeh/release/bokeh-tables-1.4.0.min.js\", \"https://cdn.pydata.org/bokeh/release/bokeh-gl-1.4.0.min.js\"];\n  var css_urls = [];\n  \n\n  var inline_js = [\n    function(Bokeh) {\n      Bokeh.set_log_level(\"info\");\n    },\n    function(Bokeh) {\n    \n    \n    }\n  ];\n\n  function run_inline_js() {\n    \n    if (root.Bokeh !== undefined || force === true) {\n      \n    for (var i = 0; i < inline_js.length; i++) {\n      inline_js[i].call(root, root.Bokeh);\n    }\n    if (force === true) {\n        display_loaded();\n      }} else if (Date.now() < root._bokeh_timeout) {\n      setTimeout(run_inline_js, 100);\n    } else if (!root._bokeh_failed_load) {\n      console.log(\"Bokeh: BokehJS failed to load within specified timeout.\");\n      root._bokeh_failed_load = true;\n    } else if (force !== true) {\n      var cell = $(document.getElementById(\"1001\")).parents('.cell').data().cell;\n      cell.output_area.append_execute_result(NB_LOAD_WARNING)\n    }\n\n  }\n\n  if (root._bokeh_is_loading === 0) {\n    console.debug(\"Bokeh: BokehJS loaded, going straight to plotting\");\n    run_inline_js();\n  } else {\n    load_libs(css_urls, js_urls, function() {\n      console.debug(\"Bokeh: BokehJS plotting callback run at\", now());\n      run_inline_js();\n    });\n  }\n}(window));"
     },
     "metadata": {},
     "output_type": "display_data"
    }
   ],
   "source": [
    "from connectv2x.carfollow import Tampere, W_I, U_I, K_X, A_MIN, A_MAX\n",
    "from connectv2x.support import speed_pulse\n",
    "from connectv2x.messages import Msg1, Msg2\n",
    "import numpy as np\n",
    "import pandas as pd\n",
    "import datetime as dt\n",
    "import csv \n",
    "\n",
    "from connectv2x.plottools import plot_single_trace, plot_xva, plot_histogram, plot_multiple_trajectories\n",
    "from bokeh.plotting import figure, show, output_file\n",
    "from bokeh.io import output_notebook, export_png\n",
    "from bokeh.layouts import row, column\n",
    "\n",
    "output_notebook()"
   ]
  },
  {
   "cell_type": "code",
   "execution_count": null,
   "metadata": {},
   "outputs": [],
   "source": []
  },
  {
   "cell_type": "code",
   "execution_count": null,
   "metadata": {},
   "outputs": [],
   "source": []
  },
  {
   "cell_type": "markdown",
   "metadata": {
    "papermill": {
     "duration": 0.016934,
     "end_time": "2019-11-26T15:01:37.014643",
     "exception": false,
     "start_time": "2019-11-26T15:01:36.997709",
     "status": "completed"
    },
    "tags": []
   },
   "source": [
    "#### Hyper parameter variation for sensitivity analysis\n",
    "\n",
    "* `MPR`: Market penetration rate [0,1]\n",
    "* `Q_PERC`: Percentage of maximum flow (0,1]\n",
    "* `MIN_DIST`: Minium distance for message broadcasting [4000,14000]"
   ]
  },
  {
   "cell_type": "code",
   "execution_count": null,
   "metadata": {
    "papermill": {
     "duration": 0.021067,
     "end_time": "2019-11-26T15:01:37.049182",
     "exception": false,
     "start_time": "2019-11-26T15:01:37.028115",
     "status": "completed"
    },
    "tags": [
     "injected-parameters"
    ]
   },
   "outputs": [],
   "source": [
    "# Parameters\n",
    "MPR = 0.4\n",
    "MIN_DIST = 10000\n",
    "Q_PERC = 1\n"
   ]
  },
  {
   "cell_type": "markdown",
   "metadata": {
    "papermill": {
     "duration": 0.013857,
     "end_time": "2019-11-26T15:01:37.076447",
     "exception": false,
     "start_time": "2019-11-26T15:01:37.062590",
     "status": "completed"
    },
    "tags": []
   },
   "source": [
    "## Input definitions \n",
    "\n",
    "Main input definitions for the simulation such as the `simulation time`, `flow`, `distance to congestion`, `congestion length`, `perception radious`\n",
    "\n",
    "**Important note**: To run simulations be sure to start always from the beginning\n",
    "\n",
    "### <span style=\"color:red\">Define parameters below </span>\n",
    "\n",
    "<span style= \"color:red\">See comments for more details </span>\n",
    "\n",
    "* simulation time: `time`\n",
    "* works position: `X_CONGESTION`\n",
    "* works length: `L_CONGESTION`\n",
    "* radious of messages: `PERCEP_RADIOUS`"
   ]
  },
  {
   "cell_type": "code",
   "execution_count": null,
   "metadata": {
    "papermill": {
     "duration": 0.025643,
     "end_time": "2019-11-26T15:01:37.116298",
     "exception": false,
     "start_time": "2019-11-26T15:01:37.090655",
     "status": "completed"
    },
    "tags": []
   },
   "outputs": [],
   "source": [
    "# Constant values\n",
    "N = 100  # Number of vehicles to simulate\n",
    "T_TOTAL = 960  # Simulation time [s]\n",
    "time = np.arange(T_TOTAL)  # Time vector\n",
    "\n",
    "# Traffic characteristics\n",
    "X_CONGESTION = 15000  # Position of congestion in space [m]\n",
    "L_CONGESTION = 1500  # Approximate congestion length in space [m]\n",
    "\n",
    "# Messages for V2V\n",
    "SPEED_REDUCTION = 5.5  # Amount of speed reduction [m/s]\n",
    "PERCEP_RADIOUS = 3000  # Radious of perception of the broadcasted messages [m]"
   ]
  },
  {
   "cell_type": "markdown",
   "metadata": {
    "papermill": {
     "duration": 0.013123,
     "end_time": "2019-11-26T15:01:37.143034",
     "exception": false,
     "start_time": "2019-11-26T15:01:37.129911",
     "status": "completed"
    },
    "tags": []
   },
   "source": [
    "## Vehicle definitions \n",
    "\n",
    "In the following cell content regarding the vehicle will be defined in particular the `flow`. The current capacity value is: "
   ]
  },
  {
   "cell_type": "markdown",
   "metadata": {
    "papermill": {
     "duration": 0.013191,
     "end_time": "2019-11-26T15:01:37.169456",
     "exception": false,
     "start_time": "2019-11-26T15:01:37.156265",
     "status": "completed"
    },
    "tags": []
   },
   "source": [
    "\n",
    "\n",
    "### <span style=\"color:red\">Define parameters below </span>\n",
    "\n",
    "<span style= \"color:red\">See comments for more details </span>\n",
    "\n",
    "* Amount of flow w.r.t to capacity: `Q_PERC`"
   ]
  },
  {
   "cell_type": "code",
   "execution_count": null,
   "metadata": {
    "papermill": {
     "duration": 0.022156,
     "end_time": "2019-11-26T15:01:37.204963",
     "exception": false,
     "start_time": "2019-11-26T15:01:37.182807",
     "status": "completed"
    },
    "tags": []
   },
   "outputs": [],
   "source": [
    "# Capacity\n",
    "C = (U_I * W_I * K_X) / (W_I + U_I)\n",
    "# print(f\"Capacity value per lane: {C*3600} [veh/h]\")\n",
    "\n",
    "# Vehicle Initial position / speed\n",
    "TF = C * Q_PERC"
   ]
  },
  {
   "cell_type": "code",
   "execution_count": null,
   "metadata": {
    "papermill": {
     "duration": 0.036433,
     "end_time": "2019-11-26T15:01:37.267845",
     "exception": false,
     "start_time": "2019-11-26T15:01:37.231412",
     "status": "completed"
    },
    "tags": []
   },
   "outputs": [],
   "source": [
    "# Vehicle initializer\n",
    "X0 = np.flip(np.arange(0, N) * (W_I + U_I) / (W_I * K_X) * 1 / Q_PERC)\n",
    "V0 = np.ones(N) * U_I\n",
    "A0 = np.zeros(N)\n",
    "\n",
    "veh_list = []\n",
    "\n",
    "np.random.seed(42)  # Reproducibility\n",
    "ID_CAV = np.random.randint(1, N - 1, int(N * MPR))  # Id Connected Vehicles\n",
    "D_CLASS = {k: \"CAV\" for k in ID_CAV}\n",
    "V_CLASS = [D_CLASS.get(i, \"HDV\") for i in range(N)]  # All vehicle types\n",
    "\n",
    "# Initializing vehicles\n",
    "Tampere.reset()\n",
    "for x0, v0, vtype in zip(X0, V0, V_CLASS):\n",
    "    veh_list.append(Tampere(x0=x0, v0=v0, l0=0, veh_type=vtype))\n",
    "\n",
    "# Setting leader for vehicle i\n",
    "for i in range(1, N):\n",
    "    veh_list[i].set_leader(veh_list[i - 1])\n",
    "\n",
    "ID_CAVN = [i for i, j in enumerate(V_CLASS) if j == \"CAV\"]"
   ]
  },
  {
   "cell_type": "markdown",
   "metadata": {
    "papermill": {
     "duration": 0.019818,
     "end_time": "2019-11-26T15:01:37.308431",
     "exception": false,
     "start_time": "2019-11-26T15:01:37.288613",
     "status": "completed"
    },
    "tags": []
   },
   "source": [
    "## Message characteristics \n",
    "\n",
    "The following cell computes the distances at which the messages are going to be broadcasted "
   ]
  },
  {
   "cell_type": "code",
   "execution_count": null,
   "metadata": {
    "papermill": {
     "duration": 0.036253,
     "end_time": "2019-11-26T15:01:37.368037",
     "exception": false,
     "start_time": "2019-11-26T15:01:37.331784",
     "status": "completed"
    },
    "tags": []
   },
   "outputs": [],
   "source": [
    "# Scenario conditions\n",
    "D_ACCEPT = X_CONGESTION - 1000  # Broad casting messages @ 14Km\n",
    "D_ACCEPT = D_ACCEPT - np.random.exponential(PERCEP_RADIOUS, N * 1000)\n",
    "D_ACCEPT = D_ACCEPT[(D_ACCEPT > MIN_DIST) & (D_ACCEPT < X_CONGESTION)]\n",
    "D_ACCEPT = np.random.choice(D_ACCEPT, N)\n",
    "\n",
    "# accept_dist = plot_histogram(D_ACCEPT,\"Acceptane Distance [Km]\")\n",
    "# show(accept_dist)"
   ]
  },
  {
   "cell_type": "markdown",
   "metadata": {
    "papermill": {
     "duration": 0.015254,
     "end_time": "2019-11-26T15:01:37.399056",
     "exception": false,
     "start_time": "2019-11-26T15:01:37.383802",
     "status": "completed"
    },
    "tags": []
   },
   "source": [
    "## Message information \n",
    "\n",
    "The following is just to illustrate the message generation and definitions for the simulation "
   ]
  },
  {
   "cell_type": "code",
   "execution_count": null,
   "metadata": {
    "papermill": {
     "duration": 0.024646,
     "end_time": "2019-11-26T15:01:37.437401",
     "exception": false,
     "start_time": "2019-11-26T15:01:37.412755",
     "status": "completed"
    },
    "tags": []
   },
   "outputs": [],
   "source": [
    "# Road works speed profile\n",
    "def lead_spd(x):\n",
    "    \"\"\"  Leader's function to control speed drop in space \n",
    "         Speed Drop: 20 m/s \n",
    "         Position: 15 Km\n",
    "         Duration: 20 Km\n",
    "    \"\"\"\n",
    "    return speed_pulse(x, drop=20, delay=X_CONGESTION, duration=L_CONGESTION)\n",
    "\n",
    "# x_t = np.linspace(0, 20000, 20000)\n",
    "# v_t = lead_spd(x_t)\n",
    "# leader_xt = plot_single_trace(\n",
    "#      x_t, v_t, \"Leaders' speed\", \"Space [m]\", \"Speed [m/s]\"\n",
    "# )\n",
    "# show(leader_xt)"
   ]
  },
  {
   "cell_type": "raw",
   "metadata": {
    "papermill": {
     "duration": 0.013243,
     "end_time": "2019-11-26T15:01:37.464628",
     "exception": false,
     "start_time": "2019-11-26T15:01:37.451385",
     "status": "completed"
    },
    "tags": []
   },
   "source": [
    "# Visualizing sent messgages\n",
    "\n",
    "send_message = Msg2\n",
    "tx_message = []\n",
    "\n",
    "for veh in veh_list:\n",
    "    d_accept = D_ACCEPT[veh.idx]\n",
    "    tx_message.append(send_message(d_accept))\n",
    "    \n",
    "x_ss = np.linspace(0,20000,1000)\n",
    "    \n",
    "acc_values = np.array(list(map(lambda x: x(x_ss), tx_message)))\n",
    "\n",
    "p=figure(title=\"Set of messages transmitted\")\n",
    "p.xaxis.axis_label = \"Position [m]\"\n",
    "p.yaxis.axis_label = \"Speed [m/s]\"\n",
    "for ac,vc in zip(acc_values,V_CLASS):\n",
    "    if vc == \"CAV\":\n",
    "        p.line(x_ss,ac,color='red')  \n",
    "show(p)    "
   ]
  },
  {
   "cell_type": "markdown",
   "metadata": {
    "papermill": {
     "duration": 0.013254,
     "end_time": "2019-11-26T15:01:37.491362",
     "exception": false,
     "start_time": "2019-11-26T15:01:37.478108",
     "status": "completed"
    },
    "tags": []
   },
   "source": [
    "## Main simulation\n",
    "\n",
    "The following code defines the simulation that is run. Execute the code directly in case you want to modify the message change `Msg1` by `Msg2`"
   ]
  },
  {
   "cell_type": "code",
   "execution_count": null,
   "metadata": {
    "papermill": {
     "duration": 2.746312,
     "end_time": "2019-11-26T15:01:40.250753",
     "exception": false,
     "start_time": "2019-11-26T15:01:37.504441",
     "status": "completed"
    },
    "tags": []
   },
   "outputs": [],
   "source": [
    "# Dynamical evalution\n",
    "X = X0\n",
    "V = V0\n",
    "A = A0\n",
    "\n",
    "send_message = Msg2  # Msg2 # Defines the type of message to be send\n",
    "\n",
    "d_accept = X_CONGESTION - 1000\n",
    "msg_fix = send_message(d_accept)\n",
    "\n",
    "for t in time:\n",
    "    for veh in veh_list:\n",
    "        if veh.type == \"CAV\" and not veh.acc:\n",
    "            d_accept = D_ACCEPT[veh.idx]\n",
    "            msg = send_message(d_accept)\n",
    "            veh.register_control_speed(msg)\n",
    "        elif veh.type == \"HDV\" and not veh.acc:\n",
    "            veh.register_control_speed(msg_fix)\n",
    "\n",
    "        veh.step_evolution(control=lead_spd)\n",
    "\n",
    "    V = np.vstack((V, np.array([veh.v for veh in veh_list])))\n",
    "    X = np.vstack((X, np.array([veh.x for veh in veh_list])))\n",
    "    A = np.vstack((A, np.array([veh.a for veh in veh_list])))\n",
    "\n",
    "V = V[1:, :]\n",
    "X = X[1:, :]\n",
    "A = A[1:, :]"
   ]
  },
  {
   "cell_type": "markdown",
   "metadata": {
    "papermill": {
     "duration": 0.013074,
     "end_time": "2019-11-26T15:01:40.277196",
     "exception": false,
     "start_time": "2019-11-26T15:01:40.264122",
     "status": "completed"
    },
    "tags": []
   },
   "source": [
    "# Indicators \n",
    "\n",
    "The following produces the total travel time for vehicles"
   ]
  },
  {
   "cell_type": "code",
   "execution_count": null,
   "metadata": {
    "papermill": {
     "duration": 0.267797,
     "end_time": "2019-11-26T15:01:40.562848",
     "exception": false,
     "start_time": "2019-11-26T15:01:40.295051",
     "status": "completed"
    },
    "tags": []
   },
   "outputs": [],
   "source": [
    "df_x = pd.DataFrame(X)\n",
    "now = dt.datetime(2019,11,26,13,0) # This is to set a special day for synchronous purposes \n",
    "delta = dt.timedelta(seconds=1)\n",
    "time_vector = [now+n*delta for n in range(T_TOTAL)]\n",
    "df_x.index = time_vector \n",
    "\n",
    "def find_travel_time(df):\n",
    "    time_entry  = min(df[df>df_x.iloc[0,0]].index) # minimum time after leader entrance \n",
    "    time_exit = max(df[df<X_CONGESTION+L_CONGESTION].index) # maximum time before exit\n",
    "    travel_time = time_exit-time_entry\n",
    "    return travel_time.total_seconds()\n",
    "\n",
    "ttt = df_x.apply(find_travel_time)\n",
    "\n",
    "tt_mean,tt_var = np.mean(ttt),np.std(ttt) \n",
    "ttt = sum(ttt)\n",
    "# tthist = plot_histogram(ttt)\n",
    "# show(tthist)"
   ]
  },
  {
   "cell_type": "markdown",
   "metadata": {
    "papermill": {
     "duration": 0.013038,
     "end_time": "2019-11-26T15:01:40.589398",
     "exception": false,
     "start_time": "2019-11-26T15:01:40.576360",
     "status": "completed"
    },
    "tags": []
   },
   "source": [
    "We then compute indicators for security, time to collision: \n",
    "\n",
    "**Notes**:\n",
    "* The model is simple and considers no acceleration from current speed \n",
    "* If vehicles are separating instead of colliding then the value of time will be negative hence we discard it \n",
    "* In cases vehicles are in equilibrium the time to collision is `inf` so we also discard those samples. "
   ]
  },
  {
   "cell_type": "code",
   "execution_count": null,
   "metadata": {
    "papermill": {
     "duration": 0.066895,
     "end_time": "2019-11-26T15:01:40.671027",
     "exception": false,
     "start_time": "2019-11-26T15:01:40.604132",
     "status": "completed"
    },
    "tags": []
   },
   "outputs": [],
   "source": [
    "# Time to colission\n",
    "\n",
    "df_v = pd.DataFrame(V)\n",
    "df_v.index = time_vector \n",
    "df_ttc = -df_x.diff(axis=1)/df_v.diff(axis=1)\n",
    "df_ttc = df_ttc.replace([np.inf, -np.inf], np.nan)\n",
    "ttc = df_ttc[df_ttc>0].mean(axis=1,skipna=True).mean(axis=0,skipna=True)\n",
    "\n",
    "# Due to some computational issues time to collision will be avoided instead we compute "
   ]
  },
  {
   "cell_type": "markdown",
   "metadata": {
    "papermill": {
     "duration": 0.013786,
     "end_time": "2019-11-26T15:01:40.698599",
     "exception": false,
     "start_time": "2019-11-26T15:01:40.684813",
     "status": "completed"
    },
    "tags": []
   },
   "source": [
    "Computing spacing for safety characteristics in the network"
   ]
  },
  {
   "cell_type": "code",
   "execution_count": null,
   "metadata": {
    "papermill": {
     "duration": 0.022203,
     "end_time": "2019-11-26T15:01:40.737869",
     "exception": false,
     "start_time": "2019-11-26T15:01:40.715666",
     "status": "completed"
    },
    "tags": []
   },
   "outputs": [],
   "source": [
    "# Average Space headway \n",
    "df_s = -df_x.diff(axis=1).mean(axis=1,skipna=True)"
   ]
  },
  {
   "cell_type": "markdown",
   "metadata": {
    "papermill": {
     "duration": 0.014044,
     "end_time": "2019-11-26T15:01:40.766669",
     "exception": false,
     "start_time": "2019-11-26T15:01:40.752625",
     "status": "completed"
    },
    "tags": []
   },
   "source": [
    "# Plots and results \n",
    "\n",
    "The following are extracts of some plots and results to be analyzed "
   ]
  },
  {
   "cell_type": "code",
   "execution_count": null,
   "metadata": {
    "papermill": {
     "duration": 2.061272,
     "end_time": "2019-11-26T15:01:42.849175",
     "exception": false,
     "start_time": "2019-11-26T15:01:40.787903",
     "status": "completed"
    },
    "tags": []
   },
   "outputs": [],
   "source": [
    "# Creating plots\n",
    "x_t = time\n",
    "v_t = V[:, 0]\n",
    "leader_vt = plot_single_trace(x_t, v_t, \"Leaders' speed\", \"Time [s]\", \"Speed [m/s]\")\n",
    "x_t = time\n",
    "a_t = A[:, 0]\n",
    "leader_at = plot_single_trace(x_t, a_t, \"Leaders' acceleration\", \"Time [m]\", \"Acceleration [m/s²]\")\n",
    "zooms = ((MIN_DIST, X_CONGESTION + L_CONGESTION), (-1, U_I + 1), (A_MIN - 0.5, A_MAX + 0.5))\n",
    "titles = (\n",
    "    f\"X-Time MPR={MPR*100}% F={TF*3600}[veh/h] D={MIN_DIST}[m]\",\n",
    "    f\"V-Time MPR={MPR*100}% F={TF*3600}[veh/h] D={MIN_DIST}[m]\",\n",
    "    f\"X-Time MPR={MPR*100}% F={TF*3600}[veh/h] D={MIN_DIST}[m]\"\n",
    "  )\n",
    "pos, spd, acc = plot_xva(time, X, V, A, y_range=zooms, titles=titles)\n",
    "poswoz = plot_multiple_trajectories(time, X, V, titles[0], \"Time [secs]\", \"Position [m]\")\n",
    "# show(leader_at)"
   ]
  },
  {
   "cell_type": "markdown",
   "metadata": {
    "papermill": {
     "duration": 0.013215,
     "end_time": "2019-11-26T15:01:42.875651",
     "exception": false,
     "start_time": "2019-11-26T15:01:42.862436",
     "status": "completed"
    },
    "tags": []
   },
   "source": [
    "# Exporting files\n",
    "\n",
    "The following are extracts of some plots and results to be analyzed "
   ]
  },
  {
   "cell_type": "code",
   "execution_count": null,
   "metadata": {
    "papermill": {
     "duration": 1.029231,
     "end_time": "2019-11-26T15:01:43.918317",
     "exception": false,
     "start_time": "2019-11-26T15:01:42.889086",
     "status": "completed"
    },
    "tags": []
   },
   "outputs": [],
   "source": [
    "# Writting CSV File for Phem \n",
    "\n",
    "df_X = pd.DataFrame(X)\n",
    "df_X = df_X.melt(var_name=\"id\",value_name=\"x\")\n",
    "df_X = df_X.reset_index()\n",
    "df_X = df_X.rename(columns={'index': 'time',\"id\":\"vehicle number\"})\n",
    "df_X[\"y\"] = 0\n",
    "df_v = pd.DataFrame(V)\n",
    "df_V = df_v.melt(var_name=\"id\",value_name=\"v\")\n",
    "df_X[\"speed\"]=df_V[\"v\"]*3.6 \n",
    "df_X[\"road inclination\"] = 0 \n",
    "df_X[\"vehicle type\"] = 100\n",
    "df_X[\"segment number\"] = 0\n",
    "correct_order = [0,2,3,1,4,5,6,7]\n",
    "df_X = df_X[df_X.columns[correct_order]]\n",
    "data = \"data/csv/\"\n",
    "filename = f\"phem_mpr-{MPR}_q-{Q_PERC}_d-{MIN_DIST}.csv\"\n",
    "df_X.to_csv(data+filename)"
   ]
  },
  {
   "cell_type": "code",
   "execution_count": null,
   "metadata": {
    "papermill": {
     "duration": 0.026944,
     "end_time": "2019-11-26T15:01:43.959326",
     "exception": false,
     "start_time": "2019-11-26T15:01:43.932382",
     "status": "completed"
    },
    "tags": []
   },
   "outputs": [],
   "source": [
    "# Writting CSV File for Spacing \n",
    "filename = f\"spacing_mpr-{MPR}_q-{Q_PERC}_d-{MIN_DIST}.csv\"\n",
    "data = \"data/csv/\"\n",
    "df_s.to_csv(data+filename)"
   ]
  },
  {
   "cell_type": "code",
   "execution_count": null,
   "metadata": {
    "papermill": {
     "duration": 16.570855,
     "end_time": "2019-11-26T15:02:00.544014",
     "exception": false,
     "start_time": "2019-11-26T15:01:43.973159",
     "status": "completed"
    },
    "tags": []
   },
   "outputs": [],
   "source": [
    "# Writting trajectories file\n",
    "data = \"data/\"\n",
    "filename = f\"img/cases/position/pos_mpr-{MPR}_q-{Q_PERC}_d-{MIN_DIST}.png\"\n",
    "export_png(pos, filename=data + filename)\n",
    "filename = f\"img/cases/position/poswoz_mpr-{MPR}_q-{Q_PERC}_d-{MIN_DIST}.png\"\n",
    "export_png(poswoz, filename=data + filename)\n",
    "print(f\"File: {filename} has been saved\")\n",
    "filename = f\"img/cases/speed/spd_mpr-{MPR}_q-{Q_PERC}_d-{MIN_DIST}.png\"\n",
    "export_png(spd, filename=data + filename)\n",
    "print(f\"File: {filename} has been saved\")\n",
    "filename = f\"img/cases/acceleration/acc_mpr-{MPR}_q-{Q_PERC}_d-{MIN_DIST}.png\"\n",
    "export_png(acc, filename=data + filename)\n",
    "print(f\"File: {filename} has been saved\")"
   ]
  },
  {
   "cell_type": "code",
   "execution_count": null,
   "metadata": {
    "papermill": {
     "duration": 0.024811,
     "end_time": "2019-11-26T15:02:00.586926",
     "exception": false,
     "start_time": "2019-11-26T15:02:00.562115",
     "status": "completed"
    },
    "tags": []
   },
   "outputs": [],
   "source": [
    "# Writting indicators file \n",
    "\n",
    "csvTitle = ['mpr','q','distance','meanTT','stdTT','totalTT','TTC']\n",
    "csvData = [MPR,TF,MIN_DIST,tt_mean,tt_var,ttt,ttc]\n",
    "print(f\"MPR:{MPR},Q:{TF},D:{MIN_DIST}\")\n",
    "\n",
    "try:\n",
    "    with open('data/Indicators.csv','a') as writeFile:\n",
    "        writer = csv.writer(writeFile)\n",
    "        writer.writerow(csvData)\n",
    "except FileNotFoundError:\n",
    "    with open('data/Indicators.csv','w') as writeFile:\n",
    "        writer = csv.writer(writeFile)\n",
    "        writer.writerow(csvTitle)\n",
    "        writer.writerow(csvData)\n",
    "        "
   ]
  },
  {
   "cell_type": "markdown",
   "metadata": {
    "papermill": {
     "duration": 0.014573,
     "end_time": "2019-11-26T15:02:00.616508",
     "exception": false,
     "start_time": "2019-11-26T15:02:00.601935",
     "status": "completed"
    },
    "tags": []
   },
   "source": [
    "A. Ladino"
   ]
  }
 ],
 "metadata": {
  "celltoolbar": "Tags",
  "file_extension": ".py",
  "kernelspec": {
   "display_name": "Python [conda env:root] *",
   "language": "python",
   "name": "conda-root-py"
  },
  "language_info": {
   "codemirror_mode": {
    "name": "ipython",
    "version": 3
   },
   "file_extension": ".py",
   "mimetype": "text/x-python",
   "name": "python",
   "nbconvert_exporter": "python",
   "pygments_lexer": "ipython3",
   "version": "3.7.5"
  },
  "mimetype": "text/x-python",
  "name": "python",
  "npconvert_exporter": "python",
  "papermill": {
   "duration": 25.858946,
   "end_time": "2019-11-26T15:02:01.261550",
   "environment_variables": {},
   "exception": null,
   "input_path": "general.ipynb",
   "output_path": "general.ipynb",
   "parameters": {
    "MIN_DIST": 10000,
    "MPR": 0.4,
    "Q_PERC": 1
   },
   "start_time": "2019-11-26T15:01:35.402604",
   "version": "1.2.0"
  },
  "pygments_lexer": "ipython3",
  "version": 3
 },
 "nbformat": 4,
 "nbformat_minor": 4
}
